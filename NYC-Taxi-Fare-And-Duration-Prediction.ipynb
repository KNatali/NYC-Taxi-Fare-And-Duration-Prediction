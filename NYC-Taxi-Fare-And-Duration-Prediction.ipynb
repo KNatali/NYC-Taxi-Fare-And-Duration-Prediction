{
 "cells": [
  {
   "cell_type": "markdown",
   "id": "05a673a0",
   "metadata": {},
   "source": [
    "<h1 align=\"center\">NYC Taxi Fare And Duration Prediction</h1>"
   ]
  },
  {
   "cell_type": "markdown",
   "id": "fff94d85",
   "metadata": {},
   "source": [
    "<h2><font>Data importing</font></h2>"
   ]
  },
  {
   "cell_type": "code",
   "execution_count": 1,
   "id": "198eb37b",
   "metadata": {},
   "outputs": [],
   "source": [
    "#ucitavanje potrebnih biblioteka\n",
    "import pandas as pd\n",
    "import numpy as np\n",
    "import matplotlib.pyplot as plt\n",
    "import seaborn as sb\n",
    "from scipy.stats import norm\n",
    "import holidays\n",
    "from pandas.tseries.holiday import USFederalHolidayCalendar as calander"
   ]
  },
  {
   "cell_type": "code",
   "execution_count": 2,
   "id": "2437f7f4",
   "metadata": {},
   "outputs": [],
   "source": [
    "#ucitavanje podataka iz 2016.godine za mjesec maj\n",
    "taxi_data=pd.read_parquet('yellow_tripdata_2016-05.parquet',engine='fastparquet')"
   ]
  },
  {
   "cell_type": "markdown",
   "id": "e8f658e1",
   "metadata": {},
   "source": [
    "<h2>Data Wrangling</h2>"
   ]
  },
  {
   "cell_type": "markdown",
   "id": "8d53afd1",
   "metadata": {},
   "source": [
    "<h3><font color=\"red\">Podaci prije obrade</font></h3>"
   ]
  },
  {
   "cell_type": "code",
   "execution_count": 4,
   "id": "947f9047",
   "metadata": {
    "scrolled": true
   },
   "outputs": [
    {
     "data": {
      "text/html": [
       "<div>\n",
       "<style scoped>\n",
       "    .dataframe tbody tr th:only-of-type {\n",
       "        vertical-align: middle;\n",
       "    }\n",
       "\n",
       "    .dataframe tbody tr th {\n",
       "        vertical-align: top;\n",
       "    }\n",
       "\n",
       "    .dataframe thead th {\n",
       "        text-align: right;\n",
       "    }\n",
       "</style>\n",
       "<table border=\"1\" class=\"dataframe\">\n",
       "  <thead>\n",
       "    <tr style=\"text-align: right;\">\n",
       "      <th></th>\n",
       "      <th>VendorID</th>\n",
       "      <th>tpep_pickup_datetime</th>\n",
       "      <th>tpep_dropoff_datetime</th>\n",
       "      <th>passenger_count</th>\n",
       "      <th>trip_distance</th>\n",
       "      <th>RatecodeID</th>\n",
       "      <th>store_and_fwd_flag</th>\n",
       "      <th>PULocationID</th>\n",
       "      <th>DOLocationID</th>\n",
       "      <th>payment_type</th>\n",
       "      <th>fare_amount</th>\n",
       "      <th>extra</th>\n",
       "      <th>mta_tax</th>\n",
       "      <th>tip_amount</th>\n",
       "      <th>tolls_amount</th>\n",
       "      <th>improvement_surcharge</th>\n",
       "      <th>total_amount</th>\n",
       "      <th>congestion_surcharge</th>\n",
       "      <th>airport_fee</th>\n",
       "    </tr>\n",
       "  </thead>\n",
       "  <tbody>\n",
       "    <tr>\n",
       "      <th>0</th>\n",
       "      <td>1</td>\n",
       "      <td>2016-05-01 00:07:41</td>\n",
       "      <td>2016-05-01 00:08:25</td>\n",
       "      <td>1</td>\n",
       "      <td>0.0</td>\n",
       "      <td>1</td>\n",
       "      <td>N</td>\n",
       "      <td>145</td>\n",
       "      <td>145</td>\n",
       "      <td>2</td>\n",
       "      <td>2.5</td>\n",
       "      <td>0.5</td>\n",
       "      <td>0.5</td>\n",
       "      <td>0.0</td>\n",
       "      <td>0.00</td>\n",
       "      <td>0.3</td>\n",
       "      <td>3.80</td>\n",
       "      <td>NaN</td>\n",
       "      <td>NaN</td>\n",
       "    </tr>\n",
       "    <tr>\n",
       "      <th>1</th>\n",
       "      <td>1</td>\n",
       "      <td>2016-05-01 00:09:08</td>\n",
       "      <td>2016-05-01 00:09:58</td>\n",
       "      <td>1</td>\n",
       "      <td>0.0</td>\n",
       "      <td>1</td>\n",
       "      <td>N</td>\n",
       "      <td>145</td>\n",
       "      <td>145</td>\n",
       "      <td>2</td>\n",
       "      <td>2.5</td>\n",
       "      <td>0.5</td>\n",
       "      <td>0.5</td>\n",
       "      <td>0.0</td>\n",
       "      <td>0.00</td>\n",
       "      <td>0.3</td>\n",
       "      <td>3.80</td>\n",
       "      <td>NaN</td>\n",
       "      <td>NaN</td>\n",
       "    </tr>\n",
       "    <tr>\n",
       "      <th>2</th>\n",
       "      <td>1</td>\n",
       "      <td>2016-05-01 00:01:47</td>\n",
       "      <td>2016-05-01 00:05:27</td>\n",
       "      <td>1</td>\n",
       "      <td>0.9</td>\n",
       "      <td>1</td>\n",
       "      <td>N</td>\n",
       "      <td>166</td>\n",
       "      <td>238</td>\n",
       "      <td>2</td>\n",
       "      <td>5.5</td>\n",
       "      <td>0.5</td>\n",
       "      <td>0.5</td>\n",
       "      <td>0.0</td>\n",
       "      <td>0.00</td>\n",
       "      <td>0.3</td>\n",
       "      <td>6.80</td>\n",
       "      <td>NaN</td>\n",
       "      <td>NaN</td>\n",
       "    </tr>\n",
       "    <tr>\n",
       "      <th>3</th>\n",
       "      <td>1</td>\n",
       "      <td>2016-05-01 00:11:46</td>\n",
       "      <td>2016-05-01 00:25:35</td>\n",
       "      <td>1</td>\n",
       "      <td>2.0</td>\n",
       "      <td>1</td>\n",
       "      <td>N</td>\n",
       "      <td>151</td>\n",
       "      <td>74</td>\n",
       "      <td>2</td>\n",
       "      <td>11.0</td>\n",
       "      <td>0.5</td>\n",
       "      <td>0.5</td>\n",
       "      <td>0.0</td>\n",
       "      <td>0.00</td>\n",
       "      <td>0.3</td>\n",
       "      <td>12.30</td>\n",
       "      <td>NaN</td>\n",
       "      <td>NaN</td>\n",
       "    </tr>\n",
       "    <tr>\n",
       "      <th>4</th>\n",
       "      <td>1</td>\n",
       "      <td>2016-05-01 00:30:45</td>\n",
       "      <td>2016-05-01 00:40:08</td>\n",
       "      <td>2</td>\n",
       "      <td>5.2</td>\n",
       "      <td>1</td>\n",
       "      <td>N</td>\n",
       "      <td>74</td>\n",
       "      <td>129</td>\n",
       "      <td>2</td>\n",
       "      <td>15.5</td>\n",
       "      <td>0.5</td>\n",
       "      <td>0.5</td>\n",
       "      <td>0.0</td>\n",
       "      <td>5.54</td>\n",
       "      <td>0.3</td>\n",
       "      <td>22.34</td>\n",
       "      <td>NaN</td>\n",
       "      <td>NaN</td>\n",
       "    </tr>\n",
       "  </tbody>\n",
       "</table>\n",
       "</div>"
      ],
      "text/plain": [
       "   VendorID tpep_pickup_datetime tpep_dropoff_datetime  passenger_count  \\\n",
       "0         1  2016-05-01 00:07:41   2016-05-01 00:08:25                1   \n",
       "1         1  2016-05-01 00:09:08   2016-05-01 00:09:58                1   \n",
       "2         1  2016-05-01 00:01:47   2016-05-01 00:05:27                1   \n",
       "3         1  2016-05-01 00:11:46   2016-05-01 00:25:35                1   \n",
       "4         1  2016-05-01 00:30:45   2016-05-01 00:40:08                2   \n",
       "\n",
       "   trip_distance  RatecodeID store_and_fwd_flag  PULocationID  DOLocationID  \\\n",
       "0            0.0           1                  N           145           145   \n",
       "1            0.0           1                  N           145           145   \n",
       "2            0.9           1                  N           166           238   \n",
       "3            2.0           1                  N           151            74   \n",
       "4            5.2           1                  N            74           129   \n",
       "\n",
       "   payment_type  fare_amount  extra  mta_tax  tip_amount  tolls_amount  \\\n",
       "0             2          2.5    0.5      0.5         0.0          0.00   \n",
       "1             2          2.5    0.5      0.5         0.0          0.00   \n",
       "2             2          5.5    0.5      0.5         0.0          0.00   \n",
       "3             2         11.0    0.5      0.5         0.0          0.00   \n",
       "4             2         15.5    0.5      0.5         0.0          5.54   \n",
       "\n",
       "   improvement_surcharge  total_amount  congestion_surcharge  airport_fee  \n",
       "0                    0.3          3.80                   NaN          NaN  \n",
       "1                    0.3          3.80                   NaN          NaN  \n",
       "2                    0.3          6.80                   NaN          NaN  \n",
       "3                    0.3         12.30                   NaN          NaN  \n",
       "4                    0.3         22.34                   NaN          NaN  "
      ]
     },
     "execution_count": 4,
     "metadata": {},
     "output_type": "execute_result"
    }
   ],
   "source": [
    "#ispis prvih pet redova \n",
    "taxi_data.head()"
   ]
  },
  {
   "cell_type": "code",
   "execution_count": 5,
   "id": "4c7e93a7",
   "metadata": {
    "scrolled": false
   },
   "outputs": [
    {
     "name": "stdout",
     "output_type": "stream",
     "text": [
      "Broj uzoraka: 11832049 \n",
      "\n",
      "Broj obilježja: 19 \n",
      "\n"
     ]
    },
    {
     "data": {
      "text/plain": [
       "VendorID                          int64\n",
       "tpep_pickup_datetime     datetime64[ns]\n",
       "tpep_dropoff_datetime    datetime64[ns]\n",
       "passenger_count                   int64\n",
       "trip_distance                   float64\n",
       "RatecodeID                        int64\n",
       "store_and_fwd_flag               object\n",
       "PULocationID                      int64\n",
       "DOLocationID                      int64\n",
       "payment_type                      int64\n",
       "fare_amount                     float64\n",
       "extra                           float64\n",
       "mta_tax                         float64\n",
       "tip_amount                      float64\n",
       "tolls_amount                    float64\n",
       "improvement_surcharge           float64\n",
       "total_amount                    float64\n",
       "congestion_surcharge            float64\n",
       "airport_fee                     float64\n",
       "dtype: object"
      ]
     },
     "execution_count": 5,
     "metadata": {},
     "output_type": "execute_result"
    }
   ],
   "source": [
    "#Ispis broja uzoraka i broja obilježja\n",
    "print(\"Broj uzoraka:\",taxi_data.shape[0],\"\\n\")\n",
    "print(\"Broj obilježja:\",taxi_data.shape[1],\"\\n\")\n",
    "#Tipovi podataka svakog obilježja\n",
    "taxi_data.dtypes\n"
   ]
  },
  {
   "cell_type": "markdown",
   "id": "5d133c24",
   "metadata": {},
   "source": [
    "<h3><font color=\"blue\">OBRADA</font></h3>"
   ]
  },
  {
   "cell_type": "markdown",
   "id": "8e1075ac",
   "metadata": {},
   "source": [
    "<h3>Izbacivanje nedostajucih podataka</h3>\n",
    "Na osnovu prikaza iznad moze se primjetiti da su nedostajuci podaci prisutni u dva obiljezja (airport_fee, congestion_surcharge). Ukupan broj NaN podataka je jednak ukupnom broju uzoraka odnosno za ta obiljezje nemamo podata pa cemo ih izbaciti"
   ]
  },
  {
   "cell_type": "code",
   "execution_count": 5,
   "id": "f315b4bc",
   "metadata": {},
   "outputs": [
    {
     "name": "stdout",
     "output_type": "stream",
     "text": [
      "Nedostajući podaci po svakom obilježju:\n",
      " airport_fee              11832049\n",
      "congestion_surcharge     11832049\n",
      "fare_amount                     0\n",
      "total_amount                    0\n",
      "improvement_surcharge           0\n",
      "tolls_amount                    0\n",
      "tip_amount                      0\n",
      "mta_tax                         0\n",
      "extra                           0\n",
      "VendorID                        0\n",
      "tpep_pickup_datetime            0\n",
      "DOLocationID                    0\n",
      "PULocationID                    0\n",
      "store_and_fwd_flag              0\n",
      "RatecodeID                      0\n",
      "trip_distance                   0\n",
      "passenger_count                 0\n",
      "tpep_dropoff_datetime           0\n",
      "payment_type                    0\n",
      "dtype: int64\n"
     ]
    }
   ],
   "source": [
    "#Provjera da li ima nedostajucih podataka \n",
    "null=taxi_data.isnull().sum().sort_values(ascending=False)\n",
    "print(\"Nedostajući podaci po svakom obilježju:\\n\",null)"
   ]
  },
  {
   "cell_type": "code",
   "execution_count": 6,
   "id": "00a0312d",
   "metadata": {
    "scrolled": false
   },
   "outputs": [
    {
     "data": {
      "text/html": [
       "<div>\n",
       "<style scoped>\n",
       "    .dataframe tbody tr th:only-of-type {\n",
       "        vertical-align: middle;\n",
       "    }\n",
       "\n",
       "    .dataframe tbody tr th {\n",
       "        vertical-align: top;\n",
       "    }\n",
       "\n",
       "    .dataframe thead th {\n",
       "        text-align: right;\n",
       "    }\n",
       "</style>\n",
       "<table border=\"1\" class=\"dataframe\">\n",
       "  <thead>\n",
       "    <tr style=\"text-align: right;\">\n",
       "      <th></th>\n",
       "      <th>VendorID</th>\n",
       "      <th>tpep_pickup_datetime</th>\n",
       "      <th>tpep_dropoff_datetime</th>\n",
       "      <th>passenger_count</th>\n",
       "      <th>trip_distance</th>\n",
       "      <th>RatecodeID</th>\n",
       "      <th>store_and_fwd_flag</th>\n",
       "      <th>PULocationID</th>\n",
       "      <th>DOLocationID</th>\n",
       "      <th>payment_type</th>\n",
       "      <th>fare_amount</th>\n",
       "      <th>extra</th>\n",
       "      <th>mta_tax</th>\n",
       "      <th>tip_amount</th>\n",
       "      <th>tolls_amount</th>\n",
       "      <th>improvement_surcharge</th>\n",
       "      <th>total_amount</th>\n",
       "    </tr>\n",
       "  </thead>\n",
       "  <tbody>\n",
       "    <tr>\n",
       "      <th>0</th>\n",
       "      <td>1</td>\n",
       "      <td>2016-05-01 00:07:41</td>\n",
       "      <td>2016-05-01 00:08:25</td>\n",
       "      <td>1</td>\n",
       "      <td>0.0</td>\n",
       "      <td>1</td>\n",
       "      <td>N</td>\n",
       "      <td>145</td>\n",
       "      <td>145</td>\n",
       "      <td>2</td>\n",
       "      <td>2.5</td>\n",
       "      <td>0.5</td>\n",
       "      <td>0.5</td>\n",
       "      <td>0.0</td>\n",
       "      <td>0.00</td>\n",
       "      <td>0.3</td>\n",
       "      <td>3.80</td>\n",
       "    </tr>\n",
       "    <tr>\n",
       "      <th>1</th>\n",
       "      <td>1</td>\n",
       "      <td>2016-05-01 00:09:08</td>\n",
       "      <td>2016-05-01 00:09:58</td>\n",
       "      <td>1</td>\n",
       "      <td>0.0</td>\n",
       "      <td>1</td>\n",
       "      <td>N</td>\n",
       "      <td>145</td>\n",
       "      <td>145</td>\n",
       "      <td>2</td>\n",
       "      <td>2.5</td>\n",
       "      <td>0.5</td>\n",
       "      <td>0.5</td>\n",
       "      <td>0.0</td>\n",
       "      <td>0.00</td>\n",
       "      <td>0.3</td>\n",
       "      <td>3.80</td>\n",
       "    </tr>\n",
       "    <tr>\n",
       "      <th>2</th>\n",
       "      <td>1</td>\n",
       "      <td>2016-05-01 00:01:47</td>\n",
       "      <td>2016-05-01 00:05:27</td>\n",
       "      <td>1</td>\n",
       "      <td>0.9</td>\n",
       "      <td>1</td>\n",
       "      <td>N</td>\n",
       "      <td>166</td>\n",
       "      <td>238</td>\n",
       "      <td>2</td>\n",
       "      <td>5.5</td>\n",
       "      <td>0.5</td>\n",
       "      <td>0.5</td>\n",
       "      <td>0.0</td>\n",
       "      <td>0.00</td>\n",
       "      <td>0.3</td>\n",
       "      <td>6.80</td>\n",
       "    </tr>\n",
       "    <tr>\n",
       "      <th>3</th>\n",
       "      <td>1</td>\n",
       "      <td>2016-05-01 00:11:46</td>\n",
       "      <td>2016-05-01 00:25:35</td>\n",
       "      <td>1</td>\n",
       "      <td>2.0</td>\n",
       "      <td>1</td>\n",
       "      <td>N</td>\n",
       "      <td>151</td>\n",
       "      <td>74</td>\n",
       "      <td>2</td>\n",
       "      <td>11.0</td>\n",
       "      <td>0.5</td>\n",
       "      <td>0.5</td>\n",
       "      <td>0.0</td>\n",
       "      <td>0.00</td>\n",
       "      <td>0.3</td>\n",
       "      <td>12.30</td>\n",
       "    </tr>\n",
       "    <tr>\n",
       "      <th>4</th>\n",
       "      <td>1</td>\n",
       "      <td>2016-05-01 00:30:45</td>\n",
       "      <td>2016-05-01 00:40:08</td>\n",
       "      <td>2</td>\n",
       "      <td>5.2</td>\n",
       "      <td>1</td>\n",
       "      <td>N</td>\n",
       "      <td>74</td>\n",
       "      <td>129</td>\n",
       "      <td>2</td>\n",
       "      <td>15.5</td>\n",
       "      <td>0.5</td>\n",
       "      <td>0.5</td>\n",
       "      <td>0.0</td>\n",
       "      <td>5.54</td>\n",
       "      <td>0.3</td>\n",
       "      <td>22.34</td>\n",
       "    </tr>\n",
       "  </tbody>\n",
       "</table>\n",
       "</div>"
      ],
      "text/plain": [
       "   VendorID tpep_pickup_datetime tpep_dropoff_datetime  passenger_count  \\\n",
       "0         1  2016-05-01 00:07:41   2016-05-01 00:08:25                1   \n",
       "1         1  2016-05-01 00:09:08   2016-05-01 00:09:58                1   \n",
       "2         1  2016-05-01 00:01:47   2016-05-01 00:05:27                1   \n",
       "3         1  2016-05-01 00:11:46   2016-05-01 00:25:35                1   \n",
       "4         1  2016-05-01 00:30:45   2016-05-01 00:40:08                2   \n",
       "\n",
       "   trip_distance  RatecodeID store_and_fwd_flag  PULocationID  DOLocationID  \\\n",
       "0            0.0           1                  N           145           145   \n",
       "1            0.0           1                  N           145           145   \n",
       "2            0.9           1                  N           166           238   \n",
       "3            2.0           1                  N           151            74   \n",
       "4            5.2           1                  N            74           129   \n",
       "\n",
       "   payment_type  fare_amount  extra  mta_tax  tip_amount  tolls_amount  \\\n",
       "0             2          2.5    0.5      0.5         0.0          0.00   \n",
       "1             2          2.5    0.5      0.5         0.0          0.00   \n",
       "2             2          5.5    0.5      0.5         0.0          0.00   \n",
       "3             2         11.0    0.5      0.5         0.0          0.00   \n",
       "4             2         15.5    0.5      0.5         0.0          5.54   \n",
       "\n",
       "   improvement_surcharge  total_amount  \n",
       "0                    0.3          3.80  \n",
       "1                    0.3          3.80  \n",
       "2                    0.3          6.80  \n",
       "3                    0.3         12.30  \n",
       "4                    0.3         22.34  "
      ]
     },
     "execution_count": 6,
     "metadata": {},
     "output_type": "execute_result"
    }
   ],
   "source": [
    "#Izbacivanje kolona koje imaju sve NaN vrijednosti\n",
    "taxi_data.drop(['airport_fee','congestion_surcharge'],inplace=True,axis=1)\n",
    "taxi_data.head()"
   ]
  },
  {
   "cell_type": "markdown",
   "id": "b2b16d3d",
   "metadata": {},
   "source": [
    "<h3>Izbacivanje nerelevantnih obiljezja</h3>\n",
    "Posto cemo vrsiti predikciju obiljezja fare_amount, a ne total_amount, obiljezja koja se odnose na dodatne troskove cemo izbaciti"
   ]
  },
  {
   "cell_type": "code",
   "execution_count": 7,
   "id": "3d0740ea",
   "metadata": {},
   "outputs": [],
   "source": [
    "#Izbacivanje obiljezja koja ne uticu direktno na fare_amout \n",
    "taxi_data.drop(['store_and_fwd_flag','extra','mta_tax','tip_amount','tolls_amount','improvement_surcharge','total_amount'],inplace=True,axis=1)"
   ]
  },
  {
   "cell_type": "code",
   "execution_count": 8,
   "id": "240d4924",
   "metadata": {
    "scrolled": false
   },
   "outputs": [
    {
     "data": {
      "text/plain": [
       "Index(['VendorID', 'tpep_pickup_datetime', 'tpep_dropoff_datetime',\n",
       "       'passenger_count', 'trip_distance', 'RatecodeID', 'PULocationID',\n",
       "       'DOLocationID', 'payment_type', 'fare_amount'],\n",
       "      dtype='object')"
      ]
     },
     "execution_count": 8,
     "metadata": {},
     "output_type": "execute_result"
    }
   ],
   "source": [
    "taxi_data.columns"
   ]
  },
  {
   "cell_type": "markdown",
   "id": "5cbfb974",
   "metadata": {},
   "source": [
    "<h3>Transformacija postojecih i dodavanje novih obiljezja</h3>"
   ]
  },
  {
   "cell_type": "code",
   "execution_count": 9,
   "id": "9d630ec8",
   "metadata": {},
   "outputs": [],
   "source": [
    "# razlaganje datetime na posebna vremenska obiljezja\n",
    "taxi_data['pickup_date']=taxi_data['tpep_pickup_datetime'].dt.date\n",
    "taxi_data['pickup_time']=taxi_data['tpep_pickup_datetime'].dt.time\n",
    "taxi_data['dropoff_date']=taxi_data['tpep_dropoff_datetime'].dt.date\n",
    "taxi_data['dropoff_time']=taxi_data['tpep_dropoff_datetime'].dt.time\n",
    "taxi_data['week_day']=taxi_data['tpep_pickup_datetime'].dt.dayofweek\n",
    "taxi_data.loc[taxi_data['week_day']<5,'day_type']='workday'\n",
    "taxi_data.loc[taxi_data['week_day']>=5,'day_type']='weekend'"
   ]
  },
  {
   "cell_type": "code",
   "execution_count": 10,
   "id": "3b23e539",
   "metadata": {
    "scrolled": false
   },
   "outputs": [
    {
     "data": {
      "text/plain": [
       "VendorID                          int64\n",
       "tpep_pickup_datetime     datetime64[ns]\n",
       "tpep_dropoff_datetime    datetime64[ns]\n",
       "passenger_count                   int64\n",
       "trip_distance                   float64\n",
       "RatecodeID                        int64\n",
       "PULocationID                      int64\n",
       "DOLocationID                      int64\n",
       "payment_type                      int64\n",
       "fare_amount                     float64\n",
       "pickup_date                      object\n",
       "pickup_time                      object\n",
       "dropoff_date                     object\n",
       "dropoff_time                     object\n",
       "week_day                          int64\n",
       "day_type                         object\n",
       "dtype: object"
      ]
     },
     "execution_count": 10,
     "metadata": {},
     "output_type": "execute_result"
    }
   ],
   "source": [
    "taxi_data.dtypes"
   ]
  },
  {
   "cell_type": "markdown",
   "id": "2d33d9e2",
   "metadata": {},
   "source": [
    "<h3>Ubacivanje praznika</h3>\n",
    "Ako neki dan u datom skupu podataka je praznik, trebalo bi to oznaciti, jer moze da utice na voznje taj daj(zbog saobracaja mogu voznje biti duze/krace/jeftinije). Potrebno je sve voznje tog dana oznaciti da su u vrijeme praznika."
   ]
  },
  {
   "cell_type": "code",
   "execution_count": 14,
   "id": "de14ecf8",
   "metadata": {
    "scrolled": true
   },
   "outputs": [
    {
     "data": {
      "text/plain": [
       "[datetime.date(2016, 5, 30)]"
      ]
     },
     "execution_count": 14,
     "metadata": {},
     "output_type": "execute_result"
    }
   ],
   "source": [
    "#dobavljanje praznika za \n",
    "cal = calander()\n",
    "holidays_US = cal.holidays(start='2016-05-01', end='2016-05-31')\n",
    "holidays_data=[]\n",
    "for holiday in holidays_US:\n",
    "    holidays_data.append(holiday.date())\n",
    "holidays_data"
   ]
  },
  {
   "cell_type": "code",
   "execution_count": 15,
   "id": "1a6dcabb",
   "metadata": {
    "scrolled": true
   },
   "outputs": [
    {
     "name": "stdout",
     "output_type": "stream",
     "text": [
      "(datetime.date(2016, 1, 1), \"New Year's Day\")\n",
      "(datetime.date(2016, 1, 18), 'Martin Luther King Jr. Day')\n",
      "(datetime.date(2016, 2, 15), \"Washington's Birthday\")\n",
      "(datetime.date(2016, 5, 30), 'Memorial Day')\n",
      "(datetime.date(2016, 7, 4), 'Independence Day')\n",
      "(datetime.date(2016, 9, 5), 'Labor Day')\n",
      "(datetime.date(2016, 10, 10), 'Columbus Day')\n",
      "(datetime.date(2016, 11, 11), 'Veterans Day')\n",
      "(datetime.date(2016, 11, 24), 'Thanksgiving')\n",
      "(datetime.date(2016, 12, 25), 'Christmas Day')\n",
      "(datetime.date(2016, 12, 26), 'Christmas Day (Observed)')\n"
     ]
    }
   ],
   "source": [
    "#ispis praznika u 2016\n",
    "import holidays\n",
    "for ptr in holidays.US(years =2016 ).items():\n",
    "    print(ptr)"
   ]
  },
  {
   "cell_type": "code",
   "execution_count": 18,
   "id": "3ecdee45",
   "metadata": {
    "scrolled": true
   },
   "outputs": [],
   "source": [
    "#postavljanje tipa dana na praznik\n",
    "taxi_data.loc[(taxi_data['pickup_date'].isin(holidays_data)) == True, 'day_type'] = \"holiday\""
   ]
  },
  {
   "cell_type": "code",
   "execution_count": 19,
   "id": "23cb8838",
   "metadata": {
    "scrolled": false
   },
   "outputs": [
    {
     "data": {
      "text/plain": [
       "day_type\n",
       "holiday     261093\n",
       "weekend    3465027\n",
       "workday    8105929\n",
       "Name: VendorID, dtype: int64"
      ]
     },
     "execution_count": 19,
     "metadata": {},
     "output_type": "execute_result"
    }
   ],
   "source": [
    "taxi_data.groupby(by='day_type')['VendorID'].count()"
   ]
  },
  {
   "cell_type": "markdown",
   "id": "b213bb82",
   "metadata": {},
   "source": [
    "<h3>Ubacivanje u kom dijelu dana je bila svaka voznja</h3>"
   ]
  },
  {
   "cell_type": "markdown",
   "id": "6441340e",
   "metadata": {},
   "source": [
    "<h4><font color=\"green\">FUNCKIJA - za definisanje dijela dana na osnovu sata</font></h4>\n",
    "<hr>"
   ]
  },
  {
   "cell_type": "code",
   "execution_count": 36,
   "id": "fd0f2d73",
   "metadata": {},
   "outputs": [],
   "source": [
    "def day_time_slots(x):\n",
    "    if x in range(5,9):\n",
    "        return 'Early Morning'\n",
    "    elif x in range(9,13):\n",
    "        return 'Late Morning'\n",
    "    elif x in range(13,16):\n",
    "        return 'Early Afternoon'\n",
    "    elif x in range(16,19):\n",
    "        return 'Late Afternoon'\n",
    "    elif x in range(19,22):\n",
    "        return 'Evening'\n",
    "    else:\n",
    "        return 'Night'"
   ]
  },
  {
   "cell_type": "markdown",
   "id": "e6facf26",
   "metadata": {},
   "source": [
    "<hr>"
   ]
  },
  {
   "cell_type": "code",
   "execution_count": 40,
   "id": "2828fcab",
   "metadata": {},
   "outputs": [],
   "source": [
    "#dodavanje obiljezja za dio dana\n",
    "taxi_data['day_time_slot'] = (taxi_data['tpep_pickup_datetime'].dt.hour).apply(day_time_slots)"
   ]
  },
  {
   "cell_type": "code",
   "execution_count": 41,
   "id": "d9ad32bf",
   "metadata": {},
   "outputs": [
    {
     "data": {
      "text/html": [
       "<div>\n",
       "<style scoped>\n",
       "    .dataframe tbody tr th:only-of-type {\n",
       "        vertical-align: middle;\n",
       "    }\n",
       "\n",
       "    .dataframe tbody tr th {\n",
       "        vertical-align: top;\n",
       "    }\n",
       "\n",
       "    .dataframe thead th {\n",
       "        text-align: right;\n",
       "    }\n",
       "</style>\n",
       "<table border=\"1\" class=\"dataframe\">\n",
       "  <thead>\n",
       "    <tr style=\"text-align: right;\">\n",
       "      <th></th>\n",
       "      <th>VendorID</th>\n",
       "      <th>tpep_pickup_datetime</th>\n",
       "      <th>tpep_dropoff_datetime</th>\n",
       "      <th>passenger_count</th>\n",
       "      <th>trip_distance</th>\n",
       "      <th>RatecodeID</th>\n",
       "      <th>PULocationID</th>\n",
       "      <th>DOLocationID</th>\n",
       "      <th>payment_type</th>\n",
       "      <th>fare_amount</th>\n",
       "      <th>pickup_date</th>\n",
       "      <th>pickup_time</th>\n",
       "      <th>dropoff_date</th>\n",
       "      <th>dropoff_time</th>\n",
       "      <th>week_day</th>\n",
       "      <th>day_type</th>\n",
       "      <th>day_time_slot</th>\n",
       "    </tr>\n",
       "  </thead>\n",
       "  <tbody>\n",
       "    <tr>\n",
       "      <th>0</th>\n",
       "      <td>1</td>\n",
       "      <td>2016-05-01 00:07:41</td>\n",
       "      <td>2016-05-01 00:08:25</td>\n",
       "      <td>1</td>\n",
       "      <td>0.0</td>\n",
       "      <td>1</td>\n",
       "      <td>145</td>\n",
       "      <td>145</td>\n",
       "      <td>2</td>\n",
       "      <td>2.5</td>\n",
       "      <td>2016-05-01</td>\n",
       "      <td>00:07:41</td>\n",
       "      <td>2016-05-01</td>\n",
       "      <td>00:08:25</td>\n",
       "      <td>6</td>\n",
       "      <td>weekend</td>\n",
       "      <td>Night</td>\n",
       "    </tr>\n",
       "    <tr>\n",
       "      <th>1</th>\n",
       "      <td>1</td>\n",
       "      <td>2016-05-01 00:09:08</td>\n",
       "      <td>2016-05-01 00:09:58</td>\n",
       "      <td>1</td>\n",
       "      <td>0.0</td>\n",
       "      <td>1</td>\n",
       "      <td>145</td>\n",
       "      <td>145</td>\n",
       "      <td>2</td>\n",
       "      <td>2.5</td>\n",
       "      <td>2016-05-01</td>\n",
       "      <td>00:09:08</td>\n",
       "      <td>2016-05-01</td>\n",
       "      <td>00:09:58</td>\n",
       "      <td>6</td>\n",
       "      <td>weekend</td>\n",
       "      <td>Night</td>\n",
       "    </tr>\n",
       "    <tr>\n",
       "      <th>2</th>\n",
       "      <td>1</td>\n",
       "      <td>2016-05-01 00:01:47</td>\n",
       "      <td>2016-05-01 00:05:27</td>\n",
       "      <td>1</td>\n",
       "      <td>0.9</td>\n",
       "      <td>1</td>\n",
       "      <td>166</td>\n",
       "      <td>238</td>\n",
       "      <td>2</td>\n",
       "      <td>5.5</td>\n",
       "      <td>2016-05-01</td>\n",
       "      <td>00:01:47</td>\n",
       "      <td>2016-05-01</td>\n",
       "      <td>00:05:27</td>\n",
       "      <td>6</td>\n",
       "      <td>weekend</td>\n",
       "      <td>Night</td>\n",
       "    </tr>\n",
       "    <tr>\n",
       "      <th>3</th>\n",
       "      <td>1</td>\n",
       "      <td>2016-05-01 00:11:46</td>\n",
       "      <td>2016-05-01 00:25:35</td>\n",
       "      <td>1</td>\n",
       "      <td>2.0</td>\n",
       "      <td>1</td>\n",
       "      <td>151</td>\n",
       "      <td>74</td>\n",
       "      <td>2</td>\n",
       "      <td>11.0</td>\n",
       "      <td>2016-05-01</td>\n",
       "      <td>00:11:46</td>\n",
       "      <td>2016-05-01</td>\n",
       "      <td>00:25:35</td>\n",
       "      <td>6</td>\n",
       "      <td>weekend</td>\n",
       "      <td>Night</td>\n",
       "    </tr>\n",
       "    <tr>\n",
       "      <th>4</th>\n",
       "      <td>1</td>\n",
       "      <td>2016-05-01 00:30:45</td>\n",
       "      <td>2016-05-01 00:40:08</td>\n",
       "      <td>2</td>\n",
       "      <td>5.2</td>\n",
       "      <td>1</td>\n",
       "      <td>74</td>\n",
       "      <td>129</td>\n",
       "      <td>2</td>\n",
       "      <td>15.5</td>\n",
       "      <td>2016-05-01</td>\n",
       "      <td>00:30:45</td>\n",
       "      <td>2016-05-01</td>\n",
       "      <td>00:40:08</td>\n",
       "      <td>6</td>\n",
       "      <td>weekend</td>\n",
       "      <td>Night</td>\n",
       "    </tr>\n",
       "  </tbody>\n",
       "</table>\n",
       "</div>"
      ],
      "text/plain": [
       "   VendorID tpep_pickup_datetime tpep_dropoff_datetime  passenger_count  \\\n",
       "0         1  2016-05-01 00:07:41   2016-05-01 00:08:25                1   \n",
       "1         1  2016-05-01 00:09:08   2016-05-01 00:09:58                1   \n",
       "2         1  2016-05-01 00:01:47   2016-05-01 00:05:27                1   \n",
       "3         1  2016-05-01 00:11:46   2016-05-01 00:25:35                1   \n",
       "4         1  2016-05-01 00:30:45   2016-05-01 00:40:08                2   \n",
       "\n",
       "   trip_distance  RatecodeID  PULocationID  DOLocationID  payment_type  \\\n",
       "0            0.0           1           145           145             2   \n",
       "1            0.0           1           145           145             2   \n",
       "2            0.9           1           166           238             2   \n",
       "3            2.0           1           151            74             2   \n",
       "4            5.2           1            74           129             2   \n",
       "\n",
       "   fare_amount pickup_date pickup_time dropoff_date dropoff_time  week_day  \\\n",
       "0          2.5  2016-05-01    00:07:41   2016-05-01     00:08:25         6   \n",
       "1          2.5  2016-05-01    00:09:08   2016-05-01     00:09:58         6   \n",
       "2          5.5  2016-05-01    00:01:47   2016-05-01     00:05:27         6   \n",
       "3         11.0  2016-05-01    00:11:46   2016-05-01     00:25:35         6   \n",
       "4         15.5  2016-05-01    00:30:45   2016-05-01     00:40:08         6   \n",
       "\n",
       "  day_type day_time_slot  \n",
       "0  weekend         Night  \n",
       "1  weekend         Night  \n",
       "2  weekend         Night  \n",
       "3  weekend         Night  \n",
       "4  weekend         Night  "
      ]
     },
     "execution_count": 41,
     "metadata": {},
     "output_type": "execute_result"
    }
   ],
   "source": [
    "taxi_data.head()"
   ]
  },
  {
   "cell_type": "markdown",
   "id": "2744faef",
   "metadata": {},
   "source": [
    "<h3>Dodavanje obiljezja za trajanje voznje u minutama</h3>"
   ]
  },
  {
   "cell_type": "code",
   "execution_count": 42,
   "id": "c20a9d08",
   "metadata": {
    "scrolled": false
   },
   "outputs": [
    {
     "data": {
      "text/html": [
       "<div>\n",
       "<style scoped>\n",
       "    .dataframe tbody tr th:only-of-type {\n",
       "        vertical-align: middle;\n",
       "    }\n",
       "\n",
       "    .dataframe tbody tr th {\n",
       "        vertical-align: top;\n",
       "    }\n",
       "\n",
       "    .dataframe thead th {\n",
       "        text-align: right;\n",
       "    }\n",
       "</style>\n",
       "<table border=\"1\" class=\"dataframe\">\n",
       "  <thead>\n",
       "    <tr style=\"text-align: right;\">\n",
       "      <th></th>\n",
       "      <th>VendorID</th>\n",
       "      <th>tpep_pickup_datetime</th>\n",
       "      <th>tpep_dropoff_datetime</th>\n",
       "      <th>passenger_count</th>\n",
       "      <th>trip_distance</th>\n",
       "      <th>RatecodeID</th>\n",
       "      <th>PULocationID</th>\n",
       "      <th>DOLocationID</th>\n",
       "      <th>payment_type</th>\n",
       "      <th>fare_amount</th>\n",
       "      <th>pickup_date</th>\n",
       "      <th>pickup_time</th>\n",
       "      <th>dropoff_date</th>\n",
       "      <th>dropoff_time</th>\n",
       "      <th>week_day</th>\n",
       "      <th>day_type</th>\n",
       "      <th>day_time_slot</th>\n",
       "      <th>duration</th>\n",
       "    </tr>\n",
       "  </thead>\n",
       "  <tbody>\n",
       "    <tr>\n",
       "      <th>0</th>\n",
       "      <td>1</td>\n",
       "      <td>2016-05-01 00:07:41</td>\n",
       "      <td>2016-05-01 00:08:25</td>\n",
       "      <td>1</td>\n",
       "      <td>0.0</td>\n",
       "      <td>1</td>\n",
       "      <td>145</td>\n",
       "      <td>145</td>\n",
       "      <td>2</td>\n",
       "      <td>2.5</td>\n",
       "      <td>2016-05-01</td>\n",
       "      <td>00:07:41</td>\n",
       "      <td>2016-05-01</td>\n",
       "      <td>00:08:25</td>\n",
       "      <td>6</td>\n",
       "      <td>weekend</td>\n",
       "      <td>Night</td>\n",
       "      <td>0.733333</td>\n",
       "    </tr>\n",
       "    <tr>\n",
       "      <th>1</th>\n",
       "      <td>1</td>\n",
       "      <td>2016-05-01 00:09:08</td>\n",
       "      <td>2016-05-01 00:09:58</td>\n",
       "      <td>1</td>\n",
       "      <td>0.0</td>\n",
       "      <td>1</td>\n",
       "      <td>145</td>\n",
       "      <td>145</td>\n",
       "      <td>2</td>\n",
       "      <td>2.5</td>\n",
       "      <td>2016-05-01</td>\n",
       "      <td>00:09:08</td>\n",
       "      <td>2016-05-01</td>\n",
       "      <td>00:09:58</td>\n",
       "      <td>6</td>\n",
       "      <td>weekend</td>\n",
       "      <td>Night</td>\n",
       "      <td>0.833333</td>\n",
       "    </tr>\n",
       "    <tr>\n",
       "      <th>2</th>\n",
       "      <td>1</td>\n",
       "      <td>2016-05-01 00:01:47</td>\n",
       "      <td>2016-05-01 00:05:27</td>\n",
       "      <td>1</td>\n",
       "      <td>0.9</td>\n",
       "      <td>1</td>\n",
       "      <td>166</td>\n",
       "      <td>238</td>\n",
       "      <td>2</td>\n",
       "      <td>5.5</td>\n",
       "      <td>2016-05-01</td>\n",
       "      <td>00:01:47</td>\n",
       "      <td>2016-05-01</td>\n",
       "      <td>00:05:27</td>\n",
       "      <td>6</td>\n",
       "      <td>weekend</td>\n",
       "      <td>Night</td>\n",
       "      <td>3.666667</td>\n",
       "    </tr>\n",
       "    <tr>\n",
       "      <th>3</th>\n",
       "      <td>1</td>\n",
       "      <td>2016-05-01 00:11:46</td>\n",
       "      <td>2016-05-01 00:25:35</td>\n",
       "      <td>1</td>\n",
       "      <td>2.0</td>\n",
       "      <td>1</td>\n",
       "      <td>151</td>\n",
       "      <td>74</td>\n",
       "      <td>2</td>\n",
       "      <td>11.0</td>\n",
       "      <td>2016-05-01</td>\n",
       "      <td>00:11:46</td>\n",
       "      <td>2016-05-01</td>\n",
       "      <td>00:25:35</td>\n",
       "      <td>6</td>\n",
       "      <td>weekend</td>\n",
       "      <td>Night</td>\n",
       "      <td>13.816667</td>\n",
       "    </tr>\n",
       "    <tr>\n",
       "      <th>4</th>\n",
       "      <td>1</td>\n",
       "      <td>2016-05-01 00:30:45</td>\n",
       "      <td>2016-05-01 00:40:08</td>\n",
       "      <td>2</td>\n",
       "      <td>5.2</td>\n",
       "      <td>1</td>\n",
       "      <td>74</td>\n",
       "      <td>129</td>\n",
       "      <td>2</td>\n",
       "      <td>15.5</td>\n",
       "      <td>2016-05-01</td>\n",
       "      <td>00:30:45</td>\n",
       "      <td>2016-05-01</td>\n",
       "      <td>00:40:08</td>\n",
       "      <td>6</td>\n",
       "      <td>weekend</td>\n",
       "      <td>Night</td>\n",
       "      <td>9.383333</td>\n",
       "    </tr>\n",
       "  </tbody>\n",
       "</table>\n",
       "</div>"
      ],
      "text/plain": [
       "   VendorID tpep_pickup_datetime tpep_dropoff_datetime  passenger_count  \\\n",
       "0         1  2016-05-01 00:07:41   2016-05-01 00:08:25                1   \n",
       "1         1  2016-05-01 00:09:08   2016-05-01 00:09:58                1   \n",
       "2         1  2016-05-01 00:01:47   2016-05-01 00:05:27                1   \n",
       "3         1  2016-05-01 00:11:46   2016-05-01 00:25:35                1   \n",
       "4         1  2016-05-01 00:30:45   2016-05-01 00:40:08                2   \n",
       "\n",
       "   trip_distance  RatecodeID  PULocationID  DOLocationID  payment_type  \\\n",
       "0            0.0           1           145           145             2   \n",
       "1            0.0           1           145           145             2   \n",
       "2            0.9           1           166           238             2   \n",
       "3            2.0           1           151            74             2   \n",
       "4            5.2           1            74           129             2   \n",
       "\n",
       "   fare_amount pickup_date pickup_time dropoff_date dropoff_time  week_day  \\\n",
       "0          2.5  2016-05-01    00:07:41   2016-05-01     00:08:25         6   \n",
       "1          2.5  2016-05-01    00:09:08   2016-05-01     00:09:58         6   \n",
       "2          5.5  2016-05-01    00:01:47   2016-05-01     00:05:27         6   \n",
       "3         11.0  2016-05-01    00:11:46   2016-05-01     00:25:35         6   \n",
       "4         15.5  2016-05-01    00:30:45   2016-05-01     00:40:08         6   \n",
       "\n",
       "  day_type day_time_slot   duration  \n",
       "0  weekend         Night   0.733333  \n",
       "1  weekend         Night   0.833333  \n",
       "2  weekend         Night   3.666667  \n",
       "3  weekend         Night  13.816667  \n",
       "4  weekend         Night   9.383333  "
      ]
     },
     "execution_count": 42,
     "metadata": {},
     "output_type": "execute_result"
    }
   ],
   "source": [
    "#dodavanje obiljezja za trajanje voznje u minutama\n",
    "taxi_data['duration'] = taxi_data['tpep_dropoff_datetime'] - taxi_data['tpep_pickup_datetime']\n",
    "taxi_data['duration'] = taxi_data['duration'] / np.timedelta64(1, 'm')\n",
    "taxi_data.head()"
   ]
  },
  {
   "cell_type": "markdown",
   "id": "35e28eb1",
   "metadata": {},
   "source": [
    "<h3>Pretvaranje milja u kilometre</h3>"
   ]
  },
  {
   "cell_type": "code",
   "execution_count": 43,
   "id": "8eba3383",
   "metadata": {},
   "outputs": [],
   "source": [
    "#pretvaranje miles to km\n",
    "taxi_data['trip_distance']=taxi_data['trip_distance']*1.609\n",
    "\n",
    "#izracunavanje prosjecne brzine na osnovu predjenog puta i trajanje voznje u km/h\n",
    "taxi_data['avg_speed']=taxi_data['trip_distance']/(taxi_data['duration']/60)"
   ]
  },
  {
   "cell_type": "code",
   "execution_count": 44,
   "id": "0515735b",
   "metadata": {},
   "outputs": [
    {
     "data": {
      "text/plain": [
       "19308007.2405"
      ]
     },
     "execution_count": 44,
     "metadata": {},
     "output_type": "execute_result"
    }
   ],
   "source": [
    "taxi_data['trip_distance'].max()"
   ]
  },
  {
   "cell_type": "markdown",
   "id": "e419c2e5",
   "metadata": {},
   "source": [
    "<h3>Izbacivanje pocetnih obiljezja sa datumom i vremenom</h3>"
   ]
  },
  {
   "cell_type": "code",
   "execution_count": 45,
   "id": "4d73b87d",
   "metadata": {},
   "outputs": [],
   "source": [
    "#Izbacivanje pocetna obiljezja sa datumom i vremenom\n",
    "taxi_data.drop(['tpep_pickup_datetime','tpep_dropoff_datetime'],axis=1, inplace=True)"
   ]
  },
  {
   "cell_type": "code",
   "execution_count": 47,
   "id": "676bc87d",
   "metadata": {},
   "outputs": [
    {
     "data": {
      "text/plain": [
       "Index(['VendorID', 'passenger_count', 'trip_distance', 'RatecodeID',\n",
       "       'PULocationID', 'DOLocationID', 'payment_type', 'fare_amount',\n",
       "       'pickup_date', 'pickup_time', 'dropoff_date', 'dropoff_time',\n",
       "       'week_day', 'day_type', 'day_time_slot', 'duration', 'avg_speed'],\n",
       "      dtype='object')"
      ]
     },
     "execution_count": 47,
     "metadata": {},
     "output_type": "execute_result"
    }
   ],
   "source": [
    "taxi_data.columns"
   ]
  },
  {
   "cell_type": "markdown",
   "id": "a27209f5",
   "metadata": {},
   "source": [
    "<h3><font color=\"brown\">Sacuvavanje dataframe-a nakon Data Wrangling</font></h3>"
   ]
  },
  {
   "cell_type": "code",
   "execution_count": 48,
   "id": "305d7387",
   "metadata": {},
   "outputs": [],
   "source": [
    "taxi_data.to_parquet('yellow_tripdata_2016-05_AFTER_WRANGLING.parquet')"
   ]
  },
  {
   "cell_type": "markdown",
   "id": "eac48ff4",
   "metadata": {},
   "source": [
    "## Features analysis"
   ]
  },
  {
   "cell_type": "markdown",
   "id": "a975c91c",
   "metadata": {},
   "source": [
    "<h3>Import poslije data wrangling</h3>"
   ]
  },
  {
   "cell_type": "code",
   "execution_count": 49,
   "id": "f92b9774",
   "metadata": {},
   "outputs": [],
   "source": [
    "taxi_data=pd.read_parquet('yellow_tripdata_2016-05_AFTER_WRANGLING.parquet',engine='fastparquet')"
   ]
  },
  {
   "cell_type": "markdown",
   "id": "20a1a0e2",
   "metadata": {},
   "source": [
    "<h3>Kategoricka obiljezja</h3>"
   ]
  },
  {
   "cell_type": "code",
   "execution_count": 50,
   "id": "bd5f308e",
   "metadata": {
    "scrolled": true
   },
   "outputs": [
    {
     "name": "stdout",
     "output_type": "stream",
     "text": [
      "RatecodeID values: [ 1  2  5  3  4  6 99]\n",
      "Passenger_count values: [1 2 3 4 6 5 0 8 7 9]\n",
      "Payment_type values: [2 1 3 4 5]\n",
      "Week_day values: [6 0 1 2 3 4 5]\n",
      "Day_type values: ['weekend' 'workday' 'holiday']\n",
      "Day_time_slot values: ['Night' 'Early Morning' 'Late Morning' 'Early Afternoon' 'Late Afternoon'\n",
      " 'Evening']\n"
     ]
    }
   ],
   "source": [
    "#Ispis vrijednosti za kategoricka obiljezja \n",
    "print('RatecodeID values:',taxi_data['RatecodeID'].unique())\n",
    "print('Passenger_count values:',taxi_data['passenger_count'].unique())\n",
    "print('Payment_type values:',taxi_data['payment_type'].unique())\n",
    "print('Week_day values:',taxi_data['week_day'].unique())\n",
    "print('Day_type values:',taxi_data['day_type'].unique())\n",
    "print('Day_time_slot values:',taxi_data['day_time_slot'].unique())"
   ]
  },
  {
   "cell_type": "markdown",
   "id": "5a0b4244",
   "metadata": {},
   "source": [
    "Na osnovu vrijednosti koje su izlistane iznad, moze se uociti da za ratecodeID postoji jedna nevalidna vrijednost=99. Takodje nema smisla da se gledaju voznje gdje je broj putnika 0."
   ]
  },
  {
   "cell_type": "code",
   "execution_count": 51,
   "id": "997bfe2d",
   "metadata": {},
   "outputs": [
    {
     "name": "stdout",
     "output_type": "stream",
     "text": [
      "Broj voznji sa nevalidnim RatecodeId: 362\n",
      "Broj voznji sa 0 putnika: 602\n"
     ]
    }
   ],
   "source": [
    "print('Broj voznji sa nevalidnim RatecodeId:',taxi_data[taxi_data['RatecodeID']==99]['RatecodeID'].count())\n",
    "print('Broj voznji sa 0 putnika:',taxi_data[taxi_data['passenger_count']==0]['passenger_count'].count())"
   ]
  },
  {
   "cell_type": "code",
   "execution_count": 52,
   "id": "5347a37c",
   "metadata": {},
   "outputs": [],
   "source": [
    "#uklanjanje nevalidnih voznji za RatecodeID i passenger_count\n",
    "taxi_data=taxi_data[(taxi_data['RatecodeID']!=99) & (taxi_data['passenger_count']!=0)]"
   ]
  },
  {
   "cell_type": "markdown",
   "id": "9ab57baa",
   "metadata": {},
   "source": [
    "<h3>Numericka obiljezja</h3>"
   ]
  },
  {
   "cell_type": "code",
   "execution_count": 53,
   "id": "0b618895",
   "metadata": {
    "scrolled": false
   },
   "outputs": [
    {
     "data": {
      "text/html": [
       "<div>\n",
       "<style scoped>\n",
       "    .dataframe tbody tr th:only-of-type {\n",
       "        vertical-align: middle;\n",
       "    }\n",
       "\n",
       "    .dataframe tbody tr th {\n",
       "        vertical-align: top;\n",
       "    }\n",
       "\n",
       "    .dataframe thead th {\n",
       "        text-align: right;\n",
       "    }\n",
       "</style>\n",
       "<table border=\"1\" class=\"dataframe\">\n",
       "  <thead>\n",
       "    <tr style=\"text-align: right;\">\n",
       "      <th></th>\n",
       "      <th>trip_distance</th>\n",
       "      <th>fare_amount</th>\n",
       "      <th>duration</th>\n",
       "      <th>avg_speed</th>\n",
       "    </tr>\n",
       "  </thead>\n",
       "  <tbody>\n",
       "    <tr>\n",
       "      <th>count</th>\n",
       "      <td>1.183117e+07</td>\n",
       "      <td>1.183117e+07</td>\n",
       "      <td>1.183117e+07</td>\n",
       "      <td>1.181964e+07</td>\n",
       "    </tr>\n",
       "    <tr>\n",
       "      <th>mean</th>\n",
       "      <td>9.835516e+00</td>\n",
       "      <td>1.334207e+01</td>\n",
       "      <td>1.667657e+01</td>\n",
       "      <td>inf</td>\n",
       "    </tr>\n",
       "    <tr>\n",
       "      <th>std</th>\n",
       "      <td>8.296648e+03</td>\n",
       "      <td>1.174657e+01</td>\n",
       "      <td>1.173282e+02</td>\n",
       "      <td>NaN</td>\n",
       "    </tr>\n",
       "    <tr>\n",
       "      <th>min</th>\n",
       "      <td>0.000000e+00</td>\n",
       "      <td>-4.100000e+02</td>\n",
       "      <td>-1.364710e+05</td>\n",
       "      <td>-4.054680e+03</td>\n",
       "    </tr>\n",
       "    <tr>\n",
       "      <th>25%</th>\n",
       "      <td>1.609000e+00</td>\n",
       "      <td>6.500000e+00</td>\n",
       "      <td>6.783333e+00</td>\n",
       "      <td>1.201743e+01</td>\n",
       "    </tr>\n",
       "    <tr>\n",
       "      <th>50%</th>\n",
       "      <td>2.767480e+00</td>\n",
       "      <td>9.500000e+00</td>\n",
       "      <td>1.146667e+01</td>\n",
       "      <td>1.658481e+01</td>\n",
       "    </tr>\n",
       "    <tr>\n",
       "      <th>75%</th>\n",
       "      <td>5.261430e+00</td>\n",
       "      <td>1.500000e+01</td>\n",
       "      <td>1.885000e+01</td>\n",
       "      <td>2.269995e+01</td>\n",
       "    </tr>\n",
       "    <tr>\n",
       "      <th>max</th>\n",
       "      <td>1.930801e+07</td>\n",
       "      <td>8.007000e+03</td>\n",
       "      <td>1.009343e+04</td>\n",
       "      <td>inf</td>\n",
       "    </tr>\n",
       "  </tbody>\n",
       "</table>\n",
       "</div>"
      ],
      "text/plain": [
       "       trip_distance   fare_amount      duration     avg_speed\n",
       "count   1.183117e+07  1.183117e+07  1.183117e+07  1.181964e+07\n",
       "mean    9.835516e+00  1.334207e+01  1.667657e+01           inf\n",
       "std     8.296648e+03  1.174657e+01  1.173282e+02           NaN\n",
       "min     0.000000e+00 -4.100000e+02 -1.364710e+05 -4.054680e+03\n",
       "25%     1.609000e+00  6.500000e+00  6.783333e+00  1.201743e+01\n",
       "50%     2.767480e+00  9.500000e+00  1.146667e+01  1.658481e+01\n",
       "75%     5.261430e+00  1.500000e+01  1.885000e+01  2.269995e+01\n",
       "max     1.930801e+07  8.007000e+03  1.009343e+04           inf"
      ]
     },
     "execution_count": 53,
     "metadata": {},
     "output_type": "execute_result"
    }
   ],
   "source": [
    "#statistika za numericka obiljezja\n",
    "taxi_data[['trip_distance','fare_amount','duration','avg_speed']].describe()"
   ]
  },
  {
   "cell_type": "code",
   "execution_count": 55,
   "id": "e4464c31",
   "metadata": {
    "scrolled": false
   },
   "outputs": [
    {
     "name": "stdout",
     "output_type": "stream",
     "text": [
      "Broj voznji sa rastojanjem 0: 67396\n",
      "Broj voznji sa trajanjem <= 0: 11921\n",
      "Broj voznji sa cijenom <= 0: 7928\n"
     ]
    }
   ],
   "source": [
    "print('Broj voznji sa rastojanjem 0:',taxi_data[taxi_data['trip_distance']==0]['trip_distance'].count())\n",
    "print('Broj voznji sa trajanjem <= 0:',taxi_data[taxi_data['duration']<=0]['duration'].count())\n",
    "print('Broj voznji sa cijenom <= 0:',taxi_data[taxi_data['fare_amount']<=0]['fare_amount'].count())"
   ]
  },
  {
   "cell_type": "markdown",
   "id": "7005396d",
   "metadata": {},
   "source": [
    "Na osnovu statistickih vrijednosti, primjecuju se odredjena odstupanja :\n",
    "<li> Minimalna vrijednsot za duzinu puta je 0 (67396 uzoraka)</li>\n",
    "<li> Minimalna vrijednost za trajanje je negativna </li>\n",
    "<li> Postoje voznje sa negativnom cijenom </li>"
   ]
  },
  {
   "cell_type": "code",
   "execution_count": 56,
   "id": "4d8504da",
   "metadata": {
    "scrolled": true
   },
   "outputs": [],
   "source": [
    "#uklanjanje voznji sa nevalidnim podacima \n",
    "taxi_data=taxi_data[ (taxi_data['trip_distance']!=0) & (taxi_data['duration']>0) & (taxi_data['fare_amount']>0)]"
   ]
  },
  {
   "cell_type": "code",
   "execution_count": 57,
   "id": "711b5534",
   "metadata": {},
   "outputs": [
    {
     "name": "stdout",
     "output_type": "stream",
     "text": [
      "Broj voznji sa rastojanjem 0: 0\n",
      "Broj voznji sa trajanjem <= 0: 0\n",
      "Broj voznji sa cijenom <= 0: 0\n"
     ]
    }
   ],
   "source": [
    "print('Broj voznji sa rastojanjem 0:',taxi_data[taxi_data['trip_distance']==0]['trip_distance'].count())\n",
    "print('Broj voznji sa trajanjem <= 0:',taxi_data[taxi_data['duration']<=0]['duration'].count())\n",
    "print('Broj voznji sa cijenom <= 0:',taxi_data[taxi_data['fare_amount']<=0]['fare_amount'].count())"
   ]
  },
  {
   "cell_type": "code",
   "execution_count": 59,
   "id": "2ae8b149",
   "metadata": {
    "scrolled": true
   },
   "outputs": [
    {
     "data": {
      "text/html": [
       "<div>\n",
       "<style scoped>\n",
       "    .dataframe tbody tr th:only-of-type {\n",
       "        vertical-align: middle;\n",
       "    }\n",
       "\n",
       "    .dataframe tbody tr th {\n",
       "        vertical-align: top;\n",
       "    }\n",
       "\n",
       "    .dataframe thead th {\n",
       "        text-align: right;\n",
       "    }\n",
       "</style>\n",
       "<table border=\"1\" class=\"dataframe\">\n",
       "  <thead>\n",
       "    <tr style=\"text-align: right;\">\n",
       "      <th></th>\n",
       "      <th>trip_distance</th>\n",
       "      <th>fare_amount</th>\n",
       "      <th>duration</th>\n",
       "      <th>avg_speed</th>\n",
       "    </tr>\n",
       "  </thead>\n",
       "  <tbody>\n",
       "    <tr>\n",
       "      <th>count</th>\n",
       "      <td>1.175745e+07</td>\n",
       "      <td>1.175745e+07</td>\n",
       "      <td>1.175745e+07</td>\n",
       "      <td>1.175745e+07</td>\n",
       "    </tr>\n",
       "    <tr>\n",
       "      <th>mean</th>\n",
       "      <td>9.893916e+00</td>\n",
       "      <td>1.330569e+01</td>\n",
       "      <td>1.684082e+01</td>\n",
       "      <td>2.374125e+02</td>\n",
       "    </tr>\n",
       "    <tr>\n",
       "      <th>std</th>\n",
       "      <td>8.322616e+03</td>\n",
       "      <td>1.143628e+01</td>\n",
       "      <td>5.485302e+01</td>\n",
       "      <td>5.139559e+05</td>\n",
       "    </tr>\n",
       "    <tr>\n",
       "      <th>min</th>\n",
       "      <td>1.609000e-02</td>\n",
       "      <td>1.000000e-02</td>\n",
       "      <td>1.666667e-02</td>\n",
       "      <td>6.708049e-04</td>\n",
       "    </tr>\n",
       "    <tr>\n",
       "      <th>25%</th>\n",
       "      <td>1.641180e+00</td>\n",
       "      <td>6.500000e+00</td>\n",
       "      <td>6.850000e+00</td>\n",
       "      <td>1.208592e+01</td>\n",
       "    </tr>\n",
       "    <tr>\n",
       "      <th>50%</th>\n",
       "      <td>2.799660e+00</td>\n",
       "      <td>9.500000e+00</td>\n",
       "      <td>1.151667e+01</td>\n",
       "      <td>1.662890e+01</td>\n",
       "    </tr>\n",
       "    <tr>\n",
       "      <th>75%</th>\n",
       "      <td>5.309700e+00</td>\n",
       "      <td>1.500000e+01</td>\n",
       "      <td>1.891667e+01</td>\n",
       "      <td>2.273652e+01</td>\n",
       "    </tr>\n",
       "    <tr>\n",
       "      <th>max</th>\n",
       "      <td>1.930801e+07</td>\n",
       "      <td>8.007000e+03</td>\n",
       "      <td>1.009343e+04</td>\n",
       "      <td>1.616435e+09</td>\n",
       "    </tr>\n",
       "  </tbody>\n",
       "</table>\n",
       "</div>"
      ],
      "text/plain": [
       "       trip_distance   fare_amount      duration     avg_speed\n",
       "count   1.175745e+07  1.175745e+07  1.175745e+07  1.175745e+07\n",
       "mean    9.893916e+00  1.330569e+01  1.684082e+01  2.374125e+02\n",
       "std     8.322616e+03  1.143628e+01  5.485302e+01  5.139559e+05\n",
       "min     1.609000e-02  1.000000e-02  1.666667e-02  6.708049e-04\n",
       "25%     1.641180e+00  6.500000e+00  6.850000e+00  1.208592e+01\n",
       "50%     2.799660e+00  9.500000e+00  1.151667e+01  1.662890e+01\n",
       "75%     5.309700e+00  1.500000e+01  1.891667e+01  2.273652e+01\n",
       "max     1.930801e+07  8.007000e+03  1.009343e+04  1.616435e+09"
      ]
     },
     "execution_count": 59,
     "metadata": {},
     "output_type": "execute_result"
    }
   ],
   "source": [
    "#statistika numerickih obiljezja nakon izbacivanja nevalidnih vrijednosti\n",
    "taxi_data[['trip_distance','fare_amount','duration','avg_speed']].describe()"
   ]
  },
  {
   "cell_type": "markdown",
   "id": "64b08240",
   "metadata": {},
   "source": [
    "### Passenger count"
   ]
  },
  {
   "cell_type": "code",
   "execution_count": 61,
   "id": "21256869",
   "metadata": {},
   "outputs": [
    {
     "data": {
      "text/plain": [
       "passenger_count\n",
       "1    8295092\n",
       "2    1730042\n",
       "3     498464\n",
       "4     232500\n",
       "5     623444\n",
       "6     377878\n",
       "7         12\n",
       "8          5\n",
       "9         15\n",
       "Name: VendorID, dtype: int64"
      ]
     },
     "execution_count": 61,
     "metadata": {},
     "output_type": "execute_result"
    }
   ],
   "source": [
    "#broj uzoraka po broju putnika u taksiju tokom jedne voznje\n",
    "passenger_counts=taxi_data.groupby(['passenger_count']).count()\n",
    "passenger_counts['VendorID']"
   ]
  },
  {
   "cell_type": "code",
   "execution_count": 62,
   "id": "a707cfa7",
   "metadata": {},
   "outputs": [
    {
     "data": {
      "text/plain": [
       "passenger_count\n",
       "1    70.551783\n",
       "2    14.714430\n",
       "3     4.239558\n",
       "4     1.977469\n",
       "5     5.302543\n",
       "6     3.213945\n",
       "7     0.000102\n",
       "8     0.000043\n",
       "9     0.000128\n",
       "Name: VendorID, dtype: float64"
      ]
     },
     "execution_count": 62,
     "metadata": {},
     "output_type": "execute_result"
    }
   ],
   "source": [
    "#broj putnika izrazen u procentima\n",
    "passenger_counts['VendorID']/(passenger_counts['VendorID'].sum())*100"
   ]
  },
  {
   "cell_type": "code",
   "execution_count": 63,
   "id": "b62c4c9d",
   "metadata": {},
   "outputs": [
    {
     "name": "stderr",
     "output_type": "stream",
     "text": [
      "C:\\Users\\Srdjan Topic\\anaconda3\\lib\\site-packages\\seaborn\\_decorators.py:36: FutureWarning: Pass the following variable as a keyword arg: x. From version 0.12, the only valid positional argument will be `data`, and passing other arguments without an explicit keyword will result in an error or misinterpretation.\n",
      "  warnings.warn(\n"
     ]
    },
    {
     "data": {
      "text/plain": [
       "<AxesSubplot:xlabel='passenger_count', ylabel='count'>"
      ]
     },
     "execution_count": 63,
     "metadata": {},
     "output_type": "execute_result"
    },
    {
     "data": {
      "image/png": "[encoded data removed]",
      "text/plain": [
       "<Figure size 432x288 with 1 Axes>"
      ]
     },
     "metadata": {
      "needs_background": "light"
     },
     "output_type": "display_data"
    }
   ],
   "source": [
    "sb.countplot(taxi_data[\"passenger_count\"])"
   ]
  },
  {
   "cell_type": "markdown",
   "id": "031cd1f8",
   "metadata": {},
   "source": [
    "Na osnovu prikazanog dijagrama, moze se uociti da je vecina voznji bila sa jednim putnikom i to cak 70,5%. Voznji sa dva putnika je 14.7%, dok su ostale vrijdednosti jako male. \n",
    "Vidi se da postoje voznje sa cak 9 putnika. Za brojeve putnika vece od 6 procenti su manji od 0.0002."
   ]
  },
  {
   "cell_type": "code",
   "execution_count": 64,
   "id": "057c2806",
   "metadata": {},
   "outputs": [
    {
     "name": "stderr",
     "output_type": "stream",
     "text": [
      "C:\\Users\\SRDJAN~1\\AppData\\Local\\Temp/ipykernel_584/1834321843.py:2: FutureWarning: Indexing with multiple keys (implicitly converted to a tuple of keys) will be deprecated, use a list instead.\n",
      "  taxi_data.groupby('passenger_count')['trip_distance', 'fare_amount'].mean()\n"
     ]
    },
    {
     "data": {
      "text/html": [
       "<div>\n",
       "<style scoped>\n",
       "    .dataframe tbody tr th:only-of-type {\n",
       "        vertical-align: middle;\n",
       "    }\n",
       "\n",
       "    .dataframe tbody tr th {\n",
       "        vertical-align: top;\n",
       "    }\n",
       "\n",
       "    .dataframe thead th {\n",
       "        text-align: right;\n",
       "    }\n",
       "</style>\n",
       "<table border=\"1\" class=\"dataframe\">\n",
       "  <thead>\n",
       "    <tr style=\"text-align: right;\">\n",
       "      <th></th>\n",
       "      <th>trip_distance</th>\n",
       "      <th>fare_amount</th>\n",
       "    </tr>\n",
       "    <tr>\n",
       "      <th>passenger_count</th>\n",
       "      <th></th>\n",
       "      <th></th>\n",
       "    </tr>\n",
       "  </thead>\n",
       "  <tbody>\n",
       "    <tr>\n",
       "      <th>1</th>\n",
       "      <td>10.444757</td>\n",
       "      <td>13.098225</td>\n",
       "    </tr>\n",
       "    <tr>\n",
       "      <th>2</th>\n",
       "      <td>12.052338</td>\n",
       "      <td>14.059720</td>\n",
       "    </tr>\n",
       "    <tr>\n",
       "      <th>3</th>\n",
       "      <td>5.118922</td>\n",
       "      <td>13.680084</td>\n",
       "    </tr>\n",
       "    <tr>\n",
       "      <th>4</th>\n",
       "      <td>5.195834</td>\n",
       "      <td>13.840389</td>\n",
       "    </tr>\n",
       "    <tr>\n",
       "      <th>5</th>\n",
       "      <td>5.128689</td>\n",
       "      <td>13.502563</td>\n",
       "    </tr>\n",
       "    <tr>\n",
       "      <th>6</th>\n",
       "      <td>4.970715</td>\n",
       "      <td>13.256759</td>\n",
       "    </tr>\n",
       "    <tr>\n",
       "      <th>7</th>\n",
       "      <td>11.529826</td>\n",
       "      <td>34.318333</td>\n",
       "    </tr>\n",
       "    <tr>\n",
       "      <th>8</th>\n",
       "      <td>23.690916</td>\n",
       "      <td>83.000000</td>\n",
       "    </tr>\n",
       "    <tr>\n",
       "      <th>9</th>\n",
       "      <td>20.054576</td>\n",
       "      <td>57.820000</td>\n",
       "    </tr>\n",
       "  </tbody>\n",
       "</table>\n",
       "</div>"
      ],
      "text/plain": [
       "                 trip_distance  fare_amount\n",
       "passenger_count                            \n",
       "1                    10.444757    13.098225\n",
       "2                    12.052338    14.059720\n",
       "3                     5.118922    13.680084\n",
       "4                     5.195834    13.840389\n",
       "5                     5.128689    13.502563\n",
       "6                     4.970715    13.256759\n",
       "7                    11.529826    34.318333\n",
       "8                    23.690916    83.000000\n",
       "9                    20.054576    57.820000"
      ]
     },
     "execution_count": 64,
     "metadata": {},
     "output_type": "execute_result"
    }
   ],
   "source": [
    "#uporedjivanje broja putnika sa predjenim putem i cijenom prevoza \n",
    "taxi_data.groupby('passenger_count')['trip_distance', 'fare_amount'].mean()"
   ]
  },
  {
   "cell_type": "markdown",
   "id": "45c1ab4b",
   "metadata": {},
   "source": [
    "Za voznje sa brojem putnika do 6, vidimo da obicno prelaze slicne distance i cijena je slicna, dok se za broj putnika od 7 cijena drasticno povecava, cak se i prelaze duze staze.\n"
   ]
  },
  {
   "cell_type": "markdown",
   "id": "6c4004e9",
   "metadata": {},
   "source": [
    "S obzirom na istrazivanja na internetu, iako je po zakonu zabranjeno da se u obicnom taksiju vozi vise od 4 osobe, postoje vozila koja imaju veci broj sjedista za cak 8 osoba, tako da voznje sa velikim brojem putnika iako ih je jako malo nece biti izbacene"
   ]
  },
  {
   "cell_type": "markdown",
   "id": "32b7240c",
   "metadata": {},
   "source": [
    "<h4><font color=\"green\">FUNCKIJA - za iscrtavanje histograma i boxplot-a</font></h4>\n",
    "<hr>"
   ]
  },
  {
   "cell_type": "code",
   "execution_count": 77,
   "id": "6951f46e",
   "metadata": {},
   "outputs": [],
   "source": [
    "def data_distribution(data, label):\n",
    "   \n",
    "    x = np.array(data)\n",
    "    \n",
    "    fig = plt.figure()\n",
    "    \n",
    "    # histogram\n",
    "    ax1 = fig.add_axes([0.1, 0.3, 0.8, 0.6])\n",
    "    ax1 = plt.hist(x, bins=30)\n",
    "    plt.grid(alpha=.5)\n",
    "    \n",
    "    # boxplot\n",
    "    ax2 = fig.add_axes([0.1, 0.1, 0.8, 0.2])\n",
    "    ax2 = plt.boxplot(x, vert=False, widths=0.7)\n",
    "    plt.grid(alpha=.5)\n",
    "           \n",
    "    plt.show()"
   ]
  },
  {
   "cell_type": "markdown",
   "id": "1838e4f9",
   "metadata": {},
   "source": [
    "<h3>avg_speed</h3>"
   ]
  },
  {
   "cell_type": "code",
   "execution_count": 65,
   "id": "f7a311ea",
   "metadata": {
    "scrolled": true
   },
   "outputs": [
    {
     "data": {
      "image/png": "[encoded data removed]",
      "text/plain": [
       "<Figure size 432x288 with 2 Axes>"
      ]
     },
     "metadata": {
      "needs_background": "light"
     },
     "output_type": "display_data"
    }
   ],
   "source": [
    "data_distribution(taxi_data['avg_speed'],'avg_speed')"
   ]
  },
  {
   "cell_type": "markdown",
   "id": "c18b8351",
   "metadata": {},
   "source": [
    "Posto se vidi da imamo ocigledne outliere za brzinu koja je u km/hm te outliere cemo izbaciti. Izbacicemo sve brzine koje su >=100km/h"
   ]
  },
  {
   "cell_type": "code",
   "execution_count": 66,
   "id": "58a4f86c",
   "metadata": {},
   "outputs": [],
   "source": [
    "taxi_data=taxi_data[taxi_data['avg_speed']<100]"
   ]
  },
  {
   "cell_type": "code",
   "execution_count": 67,
   "id": "454de57a",
   "metadata": {},
   "outputs": [
    {
     "data": {
      "image/png": "[encoded data removed]",
      "text/plain": [
       "<Figure size 432x288 with 2 Axes>"
      ]
     },
     "metadata": {
      "needs_background": "light"
     },
     "output_type": "display_data"
    }
   ],
   "source": [
    "data_distribution(taxi_data['avg_speed'],'avg_speed')"
   ]
  },
  {
   "cell_type": "markdown",
   "id": "f0d9dc35",
   "metadata": {},
   "source": [
    "Moze se primjetiti da je raspon prosjecne brzine 0-20km/h. To djeluje sporo, ali kada se takodje uracuna i saobracaj i duzina trajanja voznje, zapravo ne zvuci nerealno."
   ]
  },
  {
   "cell_type": "code",
   "execution_count": 68,
   "id": "d6b5cf97",
   "metadata": {},
   "outputs": [
    {
     "data": {
      "text/plain": [
       "count    1.174614e+07\n",
       "mean     1.875856e+01\n",
       "std      1.001432e+01\n",
       "min      6.708049e-04\n",
       "25%      1.208075e+01\n",
       "50%      1.662095e+01\n",
       "75%      2.271529e+01\n",
       "max      9.992995e+01\n",
       "Name: avg_speed, dtype: float64"
      ]
     },
     "execution_count": 68,
     "metadata": {},
     "output_type": "execute_result"
    }
   ],
   "source": [
    "taxi_data['avg_speed'].describe()"
   ]
  },
  {
   "cell_type": "code",
   "execution_count": 69,
   "id": "9381f100",
   "metadata": {
    "scrolled": true
   },
   "outputs": [
    {
     "name": "stdout",
     "output_type": "stream",
     "text": [
      "Broj voznji sa prosjecnom brzinom >24km/h: 2533152\n",
      "Broj voznji sa prosjecnom brzinom <=24km/h: 9212986\n"
     ]
    }
   ],
   "source": [
    "print('Broj voznji sa prosjecnom brzinom >24km/h:',taxi_data[taxi_data['avg_speed']> 24]['avg_speed'].count())\n",
    "print('Broj voznji sa prosjecnom brzinom <=24km/h:',taxi_data[taxi_data['avg_speed']<=24]['avg_speed'].count())"
   ]
  },
  {
   "cell_type": "markdown",
   "id": "75af2ca5",
   "metadata": {},
   "source": [
    "<h3> Trip_distance </h3>"
   ]
  },
  {
   "cell_type": "code",
   "execution_count": 70,
   "id": "8cade00d",
   "metadata": {
    "scrolled": true
   },
   "outputs": [
    {
     "data": {
      "text/plain": [
       "count    1.174614e+07\n",
       "mean     4.943472e+00\n",
       "std      6.051340e+00\n",
       "min      1.609000e-02\n",
       "25%      1.641180e+00\n",
       "50%      2.799660e+00\n",
       "75%      5.309700e+00\n",
       "max      4.143175e+02\n",
       "Name: trip_distance, dtype: float64"
      ]
     },
     "execution_count": 70,
     "metadata": {},
     "output_type": "execute_result"
    }
   ],
   "source": [
    "taxi_data[\"trip_distance\"].describe()"
   ]
  },
  {
   "cell_type": "markdown",
   "id": "49cb4680",
   "metadata": {},
   "source": [
    "##### Prije izvrsavanja izbacivanja avg_speed>100km/h statistika za trip_distance je bila:\n",
    "max: 19 308 000km <br>\n",
    "srednja vrijednost: 9.89km a <br>\n",
    "medijan: 2.79km <br> \n",
    "sto znaci da postoje autlajeri koji znantno veci od prosjecne duzine puta\n",
    "##### Dok nakon izvrsavanja svi ti outlier-i sto su bili su nestali i skup sada ima realnije podatke i vrijednosti"
   ]
  },
  {
   "cell_type": "code",
   "execution_count": 71,
   "id": "4788f176",
   "metadata": {
    "scrolled": true
   },
   "outputs": [
    {
     "data": {
      "image/png": "[encoded data removed]",
      "text/plain": [
       "<Figure size 432x288 with 2 Axes>"
      ]
     },
     "metadata": {
      "needs_background": "light"
     },
     "output_type": "display_data"
    }
   ],
   "source": [
    "#raspodjela vrijednosti za trip_distance\n",
    "data_distribution(taxi_data['trip_distance'],'trip_distance')"
   ]
  },
  {
   "cell_type": "code",
   "execution_count": 72,
   "id": "769f06bb",
   "metadata": {},
   "outputs": [
    {
     "data": {
      "image/png": "[encoded data removed]",
      "text/plain": [
       "<Figure size 432x288 with 2 Axes>"
      ]
     },
     "metadata": {
      "needs_background": "light"
     },
     "output_type": "display_data"
    }
   ],
   "source": [
    "data_distribution(taxi_data['trip_distance'][taxi_data[\"trip_distance\"] <= 50],'trip_distance')"
   ]
  },
  {
   "cell_type": "code",
   "execution_count": 73,
   "id": "40e634db",
   "metadata": {},
   "outputs": [
    {
     "data": {
      "image/png": "[encoded data removed]",
      "text/plain": [
       "<Figure size 432x288 with 2 Axes>"
      ]
     },
     "metadata": {
      "needs_background": "light"
     },
     "output_type": "display_data"
    }
   ],
   "source": [
    "data_distribution(taxi_data['trip_distance'][taxi_data[\"trip_distance\"] <= 10],'trip_distance')"
   ]
  },
  {
   "cell_type": "markdown",
   "id": "72d1b3bf",
   "metadata": {},
   "source": [
    "Na osnovu prethodne 3 distribucije se moze primjetiti da vecina voznji imaju duzinu predjenog puta 1-6 kilometara."
   ]
  },
  {
   "cell_type": "markdown",
   "id": "557d2334",
   "metadata": {},
   "source": [
    "### Duration"
   ]
  },
  {
   "cell_type": "code",
   "execution_count": 76,
   "id": "23c004ea",
   "metadata": {},
   "outputs": [
    {
     "data": {
      "text/plain": [
       "count    1.174614e+07\n",
       "mean     1.685610e+01\n",
       "std      5.487696e+01\n",
       "min      1.666667e-02\n",
       "25%      6.866667e+00\n",
       "50%      1.153333e+01\n",
       "75%      1.893333e+01\n",
       "max      1.009343e+04\n",
       "Name: duration, dtype: float64"
      ]
     },
     "execution_count": 76,
     "metadata": {},
     "output_type": "execute_result"
    }
   ],
   "source": [
    "taxi_data[\"duration\"].describe()"
   ]
  },
  {
   "cell_type": "code",
   "execution_count": 78,
   "id": "6c3570ff",
   "metadata": {},
   "outputs": [
    {
     "data": {
      "image/png": "[encoded data removed]",
      "text/plain": [
       "<Figure size 432x288 with 2 Axes>"
      ]
     },
     "metadata": {
      "needs_background": "light"
     },
     "output_type": "display_data"
    }
   ],
   "source": [
    "data_distribution(taxi_data['duration'],'duration')"
   ]
  },
  {
   "cell_type": "markdown",
   "id": "753a3daf",
   "metadata": {},
   "source": [
    "##### Moze se primjetiti ocigledan outlier koji ce se izbaciti\n",
    "Takodje i sve vrijednosti duzine trajanja koje su vece od 3000min (50h) ce biti izbacene"
   ]
  },
  {
   "cell_type": "code",
   "execution_count": 79,
   "id": "888bc4c2",
   "metadata": {},
   "outputs": [],
   "source": [
    "#izbacivanje outliera za duration>=3000min (50h)\n",
    "taxi_data=taxi_data[taxi_data['duration']<3000]"
   ]
  },
  {
   "cell_type": "code",
   "execution_count": 80,
   "id": "b1b72b37",
   "metadata": {},
   "outputs": [
    {
     "data": {
      "text/plain": [
       "count    1.174614e+07\n",
       "mean     1.685524e+01\n",
       "std      5.479815e+01\n",
       "min      1.666667e-02\n",
       "25%      6.866667e+00\n",
       "50%      1.153333e+01\n",
       "75%      1.893333e+01\n",
       "max      2.098233e+03\n",
       "Name: duration, dtype: float64"
      ]
     },
     "execution_count": 80,
     "metadata": {},
     "output_type": "execute_result"
    }
   ],
   "source": [
    "taxi_data[\"duration\"].describe()"
   ]
  },
  {
   "cell_type": "code",
   "execution_count": 81,
   "id": "4f3cc0f6",
   "metadata": {},
   "outputs": [
    {
     "data": {
      "image/png": "[encoded data removed]",
      "text/plain": [
       "<Figure size 432x288 with 2 Axes>"
      ]
     },
     "metadata": {
      "needs_background": "light"
     },
     "output_type": "display_data"
    }
   ],
   "source": [
    "data_distribution(taxi_data['duration'],'duration')"
   ]
  },
  {
   "cell_type": "markdown",
   "id": "6fd7bac5",
   "metadata": {},
   "source": [
    "##### I dalje postoje outlier-i\n",
    "Te se i te vrijednosti izbacuju"
   ]
  },
  {
   "cell_type": "code",
   "execution_count": 83,
   "id": "baca85f7",
   "metadata": {},
   "outputs": [],
   "source": [
    "taxi_data=taxi_data[taxi_data['duration']<1500]"
   ]
  },
  {
   "cell_type": "markdown",
   "id": "74f5e426",
   "metadata": {},
   "source": [
    "<h3>Kombinacija duration i trip_distance </h3>"
   ]
  },
  {
   "cell_type": "markdown",
   "id": "a73d86d6",
   "metadata": {},
   "source": [
    "<h4><font color=\"green\">FUNCKIJA - za iscrtavanje scatter plota</font></h4>\n",
    "<hr>"
   ]
  },
  {
   "cell_type": "code",
   "execution_count": 84,
   "id": "02b924e3",
   "metadata": {},
   "outputs": [],
   "source": [
    "def scatter_plot(x_data, y_data, x_label, y_label):\n",
    "   \n",
    "    x = np.array(x_data)\n",
    "    y = np.array(y_data)\n",
    "    \n",
    "    plt.scatter(x, y)\n",
    "    plt.xlabel(x_label)\n",
    "    plt.ylabel(y_label)\n",
    "    plt.show()"
   ]
  },
  {
   "cell_type": "markdown",
   "id": "4cfc5be1",
   "metadata": {},
   "source": [
    "<hr>"
   ]
  },
  {
   "cell_type": "code",
   "execution_count": 85,
   "id": "f1aeb4d7",
   "metadata": {
    "scrolled": true
   },
   "outputs": [
    {
     "data": {
      "image/png": "[encoded data removed]",
      "text/plain": [
       "<Figure size 432x288 with 1 Axes>"
      ]
     },
     "metadata": {
      "needs_background": "light"
     },
     "output_type": "display_data"
    }
   ],
   "source": [
    "scatter_plot(taxi_data['trip_distance'], taxi_data['duration'], 'Trip distance', 'Duration in minutes')"
   ]
  },
  {
   "cell_type": "markdown",
   "id": "b1c1107c",
   "metadata": {},
   "source": [
    "##### Realna situacijia na ovom scatter plot-u bi bila da kako raste razdaljina tako i vrijeme trajanja prevoza"
   ]
  },
  {
   "cell_type": "markdown",
   "id": "c77be5a3",
   "metadata": {},
   "source": [
    "Tri tacke koje se nalaze skroz desno jedu realne vrijednosti kombinacije ovih obiljezja, jer njujork sam po sebi je\n",
    "dugacak oko 530km a sirok oko 455km. Takodje nije ni nerealno preci toliku razdaljinu za oko 5-7 sati, pogotovo ako se prevoz krece autoputom."
   ]
  },
  {
   "cell_type": "markdown",
   "id": "d946c14f",
   "metadata": {},
   "source": [
    "Zato sa druge strane nerealna predstava je bilo koja kombinacija trajanja koja je vezana za skoro 0km predjenih"
   ]
  },
  {
   "cell_type": "code",
   "execution_count": 90,
   "id": "efc51de6",
   "metadata": {},
   "outputs": [
    {
     "data": {
      "image/png": "[encoded data removed]",
      "text/plain": [
       "<Figure size 432x288 with 1 Axes>"
      ]
     },
     "metadata": {
      "needs_background": "light"
     },
     "output_type": "display_data"
    }
   ],
   "source": [
    "scatter_plot(taxi_data['trip_distance'][(taxi_data[\"trip_distance\"] <= 100)],\n",
    "             taxi_data['duration'][(taxi_data[\"trip_distance\"] <= 100)],\n",
    "             'Trip distance', 'Duration in minutes')\n"
   ]
  },
  {
   "cell_type": "markdown",
   "id": "33fea2b4",
   "metadata": {},
   "source": [
    "##### Na scatter plot-u iznad je pogotovo primjetljivo da za ogromne vrijednosti trajanja (600-1400 min) da je predjena kilometraza svega do 20km"
   ]
  },
  {
   "cell_type": "code",
   "execution_count": 99,
   "id": "16b9ac67",
   "metadata": {},
   "outputs": [
    {
     "name": "stdout",
     "output_type": "stream",
     "text": [
      "Procenat voznji cije je trajanje vece od 800min (~13h):  0.14804869857191322 %\n"
     ]
    }
   ],
   "source": [
    "percent = taxi_data['duration'][(taxi_data[\"duration\"] > 600)].count()/taxi_data['duration'].count()*100\n",
    "print(\"Procenat voznji cije je trajanje vece od 800min (~13h): \", percent, \"%\")"
   ]
  },
  {
   "cell_type": "markdown",
   "id": "16e18347",
   "metadata": {},
   "source": [
    "##### Ovim se moze zakljuciti da za sve te ogromne vrijednosti trajanja voznje vozilo bi se kretalo premalim srednjim brzinama\n",
    "(npr. za duration=600min=10h i trip_distance=10km, avg_speed=1km/h sto je veoma nerealno)\n",
    "<br>\n",
    "Iz toga razloga ce se izbaciti sve voznje cije su srednje brzine <=5km/h"
   ]
  },
  {
   "cell_type": "code",
   "execution_count": 100,
   "id": "84aff05e",
   "metadata": {},
   "outputs": [],
   "source": [
    "taxi_data = taxi_data[(taxi_data[\"avg_speed\"] >5)]"
   ]
  },
  {
   "cell_type": "code",
   "execution_count": 101,
   "id": "1683dc90",
   "metadata": {},
   "outputs": [
    {
     "data": {
      "image/png": "[encoded data removed]",
      "text/plain": [
       "<Figure size 432x288 with 1 Axes>"
      ]
     },
     "metadata": {
      "needs_background": "light"
     },
     "output_type": "display_data"
    }
   ],
   "source": [
    "scatter_plot(taxi_data['trip_distance'], taxi_data['duration'], 'Trip distance', 'Duration in minutes')"
   ]
  },
  {
   "cell_type": "markdown",
   "id": "1625a69d",
   "metadata": {},
   "source": [
    "Kao sto smo i prethodno naveli, ove tri tacke koje se nalaze skroz desno nisu nerealne vrijednosti, ali posto su samo tri tacke u pitanju, njih cemo takodje izbaciti, jer nece uticati na konacni rezultat"
   ]
  },
  {
   "cell_type": "code",
   "execution_count": 103,
   "id": "95077c55",
   "metadata": {
    "scrolled": false
   },
   "outputs": [],
   "source": [
    "taxi_data=taxi_data[taxi_data['trip_distance']<250]"
   ]
  },
  {
   "cell_type": "code",
   "execution_count": 104,
   "id": "ec491274",
   "metadata": {},
   "outputs": [
    {
     "data": {
      "image/png": "[encoded data removed]",
      "text/plain": [
       "<Figure size 432x288 with 1 Axes>"
      ]
     },
     "metadata": {
      "needs_background": "light"
     },
     "output_type": "display_data"
    }
   ],
   "source": [
    "scatter_plot(taxi_data['trip_distance'], taxi_data['duration'], 'Trip distance', 'Duration in minutes')"
   ]
  },
  {
   "cell_type": "markdown",
   "id": "51bf2d16",
   "metadata": {},
   "source": [
    "### Fare amount"
   ]
  },
  {
   "cell_type": "code",
   "execution_count": 106,
   "id": "3947bfca",
   "metadata": {
    "scrolled": true
   },
   "outputs": [
    {
     "data": {
      "text/plain": [
       "count    1.158410e+07\n",
       "mean     1.331517e+01\n",
       "std      1.140100e+01\n",
       "min      1.000000e-02\n",
       "25%      6.500000e+00\n",
       "50%      9.500000e+00\n",
       "75%      1.550000e+01\n",
       "max      8.007000e+03\n",
       "Name: fare_amount, dtype: float64"
      ]
     },
     "execution_count": 106,
     "metadata": {},
     "output_type": "execute_result"
    }
   ],
   "source": [
    "taxi_data['fare_amount'].describe()"
   ]
  },
  {
   "cell_type": "markdown",
   "id": "00c07b8c",
   "metadata": {},
   "source": [
    "Nakon sto su izbacene cijene koje su <=0, vidimo da postoji minimalna cijena od 0.01\\$. To ne bi trebao da je validan podatak jer se na osnovu istrazivanja cijena taksija (https://www.sciencedirect.com/science/article/pii/S096585642030762X ) za 2016. godinu pocetna cijena 2.5$. "
   ]
  },
  {
   "cell_type": "code",
   "execution_count": 107,
   "id": "56c16e47",
   "metadata": {},
   "outputs": [
    {
     "name": "stdout",
     "output_type": "stream",
     "text": [
      "Broj voznji sa cijenom manjom od 2.5$ je:  583\n"
     ]
    }
   ],
   "source": [
    "print('Broj voznji sa cijenom manjom od 2.5$ je: ',taxi_data['fare_amount'][taxi_data['fare_amount']<2.5].count())"
   ]
  },
  {
   "cell_type": "markdown",
   "id": "46f0d352",
   "metadata": {},
   "source": [
    "Izbacicemo sve voznje cije su cijene manje od 2.5$"
   ]
  },
  {
   "cell_type": "code",
   "execution_count": 108,
   "id": "aef1ca5d",
   "metadata": {},
   "outputs": [],
   "source": [
    "taxi_data=taxi_data[taxi_data['fare_amount']>=2.5]"
   ]
  },
  {
   "cell_type": "code",
   "execution_count": 109,
   "id": "83f3c51f",
   "metadata": {},
   "outputs": [
    {
     "data": {
      "image/png": "[encoded data removed]",
      "text/plain": [
       "<Figure size 432x288 with 2 Axes>"
      ]
     },
     "metadata": {
      "needs_background": "light"
     },
     "output_type": "display_data"
    }
   ],
   "source": [
    "data_distribution(taxi_data['fare_amount'],'fare_amount')"
   ]
  },
  {
   "cell_type": "code",
   "execution_count": 110,
   "id": "44fc3840",
   "metadata": {},
   "outputs": [
    {
     "data": {
      "text/html": [
       "<div>\n",
       "<style scoped>\n",
       "    .dataframe tbody tr th:only-of-type {\n",
       "        vertical-align: middle;\n",
       "    }\n",
       "\n",
       "    .dataframe tbody tr th {\n",
       "        vertical-align: top;\n",
       "    }\n",
       "\n",
       "    .dataframe thead th {\n",
       "        text-align: right;\n",
       "    }\n",
       "</style>\n",
       "<table border=\"1\" class=\"dataframe\">\n",
       "  <thead>\n",
       "    <tr style=\"text-align: right;\">\n",
       "      <th></th>\n",
       "      <th>VendorID</th>\n",
       "      <th>passenger_count</th>\n",
       "      <th>trip_distance</th>\n",
       "      <th>RatecodeID</th>\n",
       "      <th>PULocationID</th>\n",
       "      <th>DOLocationID</th>\n",
       "      <th>payment_type</th>\n",
       "      <th>fare_amount</th>\n",
       "      <th>pickup_date</th>\n",
       "      <th>pickup_time</th>\n",
       "      <th>dropoff_date</th>\n",
       "      <th>dropoff_time</th>\n",
       "      <th>week_day</th>\n",
       "      <th>day_type</th>\n",
       "      <th>day_time_slot</th>\n",
       "      <th>duration</th>\n",
       "      <th>avg_speed</th>\n",
       "    </tr>\n",
       "  </thead>\n",
       "  <tbody>\n",
       "    <tr>\n",
       "      <th>654974</th>\n",
       "      <td>1</td>\n",
       "      <td>2</td>\n",
       "      <td>0.4827</td>\n",
       "      <td>5</td>\n",
       "      <td>138</td>\n",
       "      <td>138</td>\n",
       "      <td>2</td>\n",
       "      <td>740.0</td>\n",
       "      <td>2016-05-02</td>\n",
       "      <td>0 days 19:16:07</td>\n",
       "      <td>2016-05-02</td>\n",
       "      <td>0 days 19:17:37</td>\n",
       "      <td>0</td>\n",
       "      <td>workday</td>\n",
       "      <td>Evening</td>\n",
       "      <td>1.500000</td>\n",
       "      <td>19.308000</td>\n",
       "    </tr>\n",
       "    <tr>\n",
       "      <th>1923543</th>\n",
       "      <td>1</td>\n",
       "      <td>1</td>\n",
       "      <td>1.6090</td>\n",
       "      <td>5</td>\n",
       "      <td>125</td>\n",
       "      <td>158</td>\n",
       "      <td>3</td>\n",
       "      <td>600.0</td>\n",
       "      <td>2016-05-05</td>\n",
       "      <td>0 days 22:17:26</td>\n",
       "      <td>2016-05-05</td>\n",
       "      <td>0 days 22:21:32</td>\n",
       "      <td>3</td>\n",
       "      <td>workday</td>\n",
       "      <td>Night</td>\n",
       "      <td>4.100000</td>\n",
       "      <td>23.546341</td>\n",
       "    </tr>\n",
       "    <tr>\n",
       "      <th>3601104</th>\n",
       "      <td>1</td>\n",
       "      <td>1</td>\n",
       "      <td>2.5744</td>\n",
       "      <td>1</td>\n",
       "      <td>264</td>\n",
       "      <td>264</td>\n",
       "      <td>2</td>\n",
       "      <td>8007.0</td>\n",
       "      <td>2016-05-10</td>\n",
       "      <td>0 days 07:14:37</td>\n",
       "      <td>2016-05-10</td>\n",
       "      <td>0 days 07:22:45</td>\n",
       "      <td>1</td>\n",
       "      <td>workday</td>\n",
       "      <td>Early Morning</td>\n",
       "      <td>8.133333</td>\n",
       "      <td>18.991475</td>\n",
       "    </tr>\n",
       "    <tr>\n",
       "      <th>4293380</th>\n",
       "      <td>1</td>\n",
       "      <td>1</td>\n",
       "      <td>2.8962</td>\n",
       "      <td>1</td>\n",
       "      <td>264</td>\n",
       "      <td>264</td>\n",
       "      <td>3</td>\n",
       "      <td>3006.0</td>\n",
       "      <td>2016-05-11</td>\n",
       "      <td>0 days 22:26:52</td>\n",
       "      <td>2016-05-11</td>\n",
       "      <td>0 days 22:32:08</td>\n",
       "      <td>2</td>\n",
       "      <td>workday</td>\n",
       "      <td>Night</td>\n",
       "      <td>5.266667</td>\n",
       "      <td>32.994684</td>\n",
       "    </tr>\n",
       "  </tbody>\n",
       "</table>\n",
       "</div>"
      ],
      "text/plain": [
       "         VendorID  passenger_count  trip_distance  RatecodeID  PULocationID  \\\n",
       "654974          1                2         0.4827           5           138   \n",
       "1923543         1                1         1.6090           5           125   \n",
       "3601104         1                1         2.5744           1           264   \n",
       "4293380         1                1         2.8962           1           264   \n",
       "\n",
       "         DOLocationID  payment_type  fare_amount pickup_date     pickup_time  \\\n",
       "654974            138             2        740.0  2016-05-02 0 days 19:16:07   \n",
       "1923543           158             3        600.0  2016-05-05 0 days 22:17:26   \n",
       "3601104           264             2       8007.0  2016-05-10 0 days 07:14:37   \n",
       "4293380           264             3       3006.0  2016-05-11 0 days 22:26:52   \n",
       "\n",
       "        dropoff_date    dropoff_time  week_day day_type  day_time_slot  \\\n",
       "654974    2016-05-02 0 days 19:17:37         0  workday        Evening   \n",
       "1923543   2016-05-05 0 days 22:21:32         3  workday          Night   \n",
       "3601104   2016-05-10 0 days 07:22:45         1  workday  Early Morning   \n",
       "4293380   2016-05-11 0 days 22:32:08         2  workday          Night   \n",
       "\n",
       "         duration  avg_speed  \n",
       "654974   1.500000  19.308000  \n",
       "1923543  4.100000  23.546341  \n",
       "3601104  8.133333  18.991475  \n",
       "4293380  5.266667  32.994684  "
      ]
     },
     "execution_count": 110,
     "metadata": {},
     "output_type": "execute_result"
    }
   ],
   "source": [
    "taxi_data[taxi_data['fare_amount']>=600]"
   ]
  },
  {
   "cell_type": "markdown",
   "id": "57e1742b",
   "metadata": {},
   "source": [
    "Na osnovu dijagrama i tabele vidimo da postoje autlajeri sa cijenama voznje preko 600\\$, pri cemu su one trajale manje od 15min. Takodje postoji i voznja koja je trajala preko 7 sati za razdaljinu od 7km, sto se ne cini kao validan podataka. Ovi autlajeri ce biti izbaceni."
   ]
  },
  {
   "cell_type": "code",
   "execution_count": 111,
   "id": "2752c70c",
   "metadata": {},
   "outputs": [],
   "source": [
    "#izbacivanje prethodno prikazanih autlajera\n",
    "taxi_data=taxi_data[taxi_data['fare_amount']<600]"
   ]
  },
  {
   "cell_type": "code",
   "execution_count": 112,
   "id": "099ec531",
   "metadata": {},
   "outputs": [
    {
     "data": {
      "text/plain": [
       "count    1.158351e+07\n",
       "mean     1.331477e+01\n",
       "std      1.111827e+01\n",
       "min      2.500000e+00\n",
       "25%      6.500000e+00\n",
       "50%      9.500000e+00\n",
       "75%      1.550000e+01\n",
       "max      5.740000e+02\n",
       "Name: fare_amount, dtype: float64"
      ]
     },
     "execution_count": 112,
     "metadata": {},
     "output_type": "execute_result"
    }
   ],
   "source": [
    "taxi_data['fare_amount'].describe()"
   ]
  },
  {
   "cell_type": "code",
   "execution_count": 113,
   "id": "df359e75",
   "metadata": {},
   "outputs": [
    {
     "name": "stderr",
     "output_type": "stream",
     "text": [
      "C:\\Users\\Srdjan Topic\\anaconda3\\lib\\site-packages\\seaborn\\distributions.py:2619: FutureWarning: `distplot` is a deprecated function and will be removed in a future version. Please adapt your code to use either `displot` (a figure-level function with similar flexibility) or `histplot` (an axes-level function for histograms).\n",
      "  warnings.warn(msg, FutureWarning)\n"
     ]
    },
    {
     "data": {
      "text/plain": [
       "<AxesSubplot:xlabel='fare_amount', ylabel='Density'>"
      ]
     },
     "execution_count": 113,
     "metadata": {},
     "output_type": "execute_result"
    },
    {
     "data": {
      "image/png": "[encoded data removed]",
      "text/plain": [
       "<Figure size 432x288 with 1 Axes>"
      ]
     },
     "metadata": {
      "needs_background": "light"
     },
     "output_type": "display_data"
    }
   ],
   "source": [
    "#raspodjela u uporedbi sa normalnom raspodjelom nad skracenim skupom podataka\n",
    "sb.distplot(taxi_data['fare_amount'], fit=norm)"
   ]
  },
  {
   "cell_type": "markdown",
   "id": "993f22cc",
   "metadata": {},
   "source": [
    "Iz raspodjele se vidi da je desno asimetricna odnosno i dalje postoji odredjen broj vrijednsoti koje su znatno vece u odnosu na najcesce vrijednosti koje su od 6.5 do 15. (interkvartilni opseg ) . Iz tog razloga je srednja vrijendost od 13. veca od medijana koji je 9.5\\$, ali to nije toliko znacajna razlika."
   ]
  },
  {
   "cell_type": "code",
   "execution_count": 116,
   "id": "517102a0",
   "metadata": {},
   "outputs": [
    {
     "data": {
      "text/plain": [
       "482"
      ]
     },
     "execution_count": 116,
     "metadata": {},
     "output_type": "execute_result"
    }
   ],
   "source": [
    "taxi_data['fare_amount'][taxi_data['fare_amount']>200].count()"
   ]
  },
  {
   "cell_type": "code",
   "execution_count": 117,
   "id": "aeacd504",
   "metadata": {},
   "outputs": [],
   "source": [
    "#Izbacivanje voznji sa fare_amount vecim od 200$\n",
    "taxi_data=taxi_data[taxi_data['fare_amount']<=200]"
   ]
  },
  {
   "cell_type": "code",
   "execution_count": 118,
   "id": "1aafb076",
   "metadata": {
    "scrolled": false
   },
   "outputs": [
    {
     "data": {
      "image/png": "[encoded data removed]",
      "text/plain": [
       "<Figure size 432x288 with 2 Axes>"
      ]
     },
     "metadata": {
      "needs_background": "light"
     },
     "output_type": "display_data"
    }
   ],
   "source": [
    "#prikaz distribucije za vrijednosti koje ne predstavljaju potencijalne autlajere (izmedju krajnjih linija)\n",
    "data_distribution(taxi_data['fare_amount'][taxi_data['fare_amount']<25],'fare_amount')"
   ]
  },
  {
   "cell_type": "markdown",
   "id": "693a9f17",
   "metadata": {},
   "source": [
    "<h3> Kombinacija cijene sa razdaljinom i cijene sa trajanjem </h3>"
   ]
  },
  {
   "cell_type": "code",
   "execution_count": 119,
   "id": "756ccf13",
   "metadata": {},
   "outputs": [
    {
     "data": {
      "text/plain": [
       "Text(0, 0.5, 'duration')"
      ]
     },
     "execution_count": 119,
     "metadata": {},
     "output_type": "execute_result"
    },
    {
     "data": {
      "image/png": "[encoded data removed]",
      "text/plain": [
       "<Figure size 720x504 with 2 Axes>"
      ]
     },
     "metadata": {
      "needs_background": "light"
     },
     "output_type": "display_data"
    }
   ],
   "source": [
    "#uporedjivanje\n",
    "fig, ax = plt.subplots(1,2,figsize=(10,7))\n",
    "ax[0].scatter(taxi_data['fare_amount'],taxi_data['trip_distance'], color='pink')\n",
    "ax[0].set_title('Odnos fare_amount i trip_distance')\n",
    "ax[1].scatter(taxi_data['fare_amount'],taxi_data['duration'], color='skyblue')\n",
    "ax[1].set_title('Odnos fare_amount i duration')\n",
    "\n",
    "ax[0].set_xlabel('fare_amount')\n",
    "ax[0].set_ylabel('trip_distance')\n",
    "ax[1].set_xlabel('fare_amount')\n",
    "ax[1].set_ylabel('duration')"
   ]
  },
  {
   "cell_type": "markdown",
   "id": "67baa813",
   "metadata": {},
   "source": [
    "Moze se primjetiti da postoji veliki broj voznji koje imaju mali trip_distance(manje od 1km)za fare_amount preko 20. Takodje isto vazi i za trajanje voznje gdje se neke naplacuju vise od 20$ a nisu trajale ni minut"
   ]
  },
  {
   "cell_type": "markdown",
   "id": "dc79bdae",
   "metadata": {},
   "source": [
    "Pored toga mogu se primjetiti i nevalidni podacci koji idu u drugu krajnost odnosno da su voznje za preko 40km i koju su trajale vise od 3h naplacivane manje od 5$"
   ]
  },
  {
   "cell_type": "code",
   "execution_count": 120,
   "id": "ce8bc588",
   "metadata": {},
   "outputs": [
    {
     "name": "stdout",
     "output_type": "stream",
     "text": [
      "Broj obiljezja u preciscenom dataset-u:  11583030\n"
     ]
    }
   ],
   "source": [
    "print('Broj obiljezja u preciscenom dataset-u: ',taxi_data.shape[0])"
   ]
  },
  {
   "cell_type": "code",
   "execution_count": 123,
   "id": "19a105a3",
   "metadata": {},
   "outputs": [],
   "source": [
    "#Cuvanje preciscenjih podataka u odvojen csv\n",
    "taxi_data.to_parquet('yellow_tripdata_2016-05_CLEANED.parquet')"
   ]
  }
 ],
 "metadata": {
  "kernelspec": {
   "display_name": "Python 3 (ipykernel)",
   "language": "python",
   "name": "python3"
  },
  "language_info": {
   "codemirror_mode": {
    "name": "ipython",
    "version": 3
   },
   "file_extension": ".py",
   "mimetype": "text/x-python",
   "name": "python",
   "nbconvert_exporter": "python",
   "pygments_lexer": "ipython3",
   "version": "3.8.5"
  }
 },
 "nbformat": 4,
 "nbformat_minor": 5
}
